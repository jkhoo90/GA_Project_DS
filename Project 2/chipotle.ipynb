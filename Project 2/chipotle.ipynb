{
 "cells": [
  {
   "cell_type": "markdown",
   "metadata": {},
   "source": [
    "<img src=\"http://imgur.com/1ZcRyrc.png\" style=\"float: left; margin: 20px; height: 55px\">\n",
    "\n",
    "# Project 2: Analyzing Chipotle Data\n",
    "\n",
    "_Author: Joseph Nelson (DC)_\n",
    "\n",
    "---"
   ]
  },
  {
   "cell_type": "markdown",
   "metadata": {},
   "source": [
    "For Project 2, you will complete a series of exercises exploring [order data from Chipotle](https://github.com/TheUpshot/chipotle), compliments of _The New York Times'_ \"The Upshot.\"\n",
    "\n",
    "For these exercises, you will conduct basic exploratory data analysis (Pandas not required) to understand the essentials of Chipotle's order data: how many orders are being made, the average price per order, how many different ingredients are used, etc. These allow you to practice business analysis skills while also becoming comfortable with Python."
   ]
  },
  {
   "cell_type": "markdown",
   "metadata": {},
   "source": [
    "---\n",
    "\n",
    "## Basic Level"
   ]
  },
  {
   "cell_type": "markdown",
   "metadata": {},
   "source": [
    "### Part 1: Read in the file with `csv.reader()` and store it in an object called `file_nested_list`.\n",
    "\n",
    "Hint: This is a TSV (tab-separated value) file, and `csv.reader()` needs to be told [how to handle it](https://docs.python.org/2/library/csv.html)."
   ]
  },
  {
   "cell_type": "code",
   "execution_count": 1,
   "metadata": {},
   "outputs": [],
   "source": [
    "import csv\n",
    "from collections import namedtuple   # Convenient to store the data rows\n",
    "\n",
    "datafile ='./data/chipotle.tsv'\n",
    "file_nested_list = []\n",
    "with open (datafile, 'r') as file:\n",
    "    reader = csv.reader(file,dialect ='excel-tab')\n",
    "    for row in reader :\n",
    "        file_nested_list.append(row)\n",
    "file.close()"
   ]
  },
  {
   "cell_type": "markdown",
   "metadata": {},
   "source": [
    "### Part 2: Separate `file_nested_list` into the `header` and the `data`.\n"
   ]
  },
  {
   "cell_type": "code",
   "execution_count": 2,
   "metadata": {},
   "outputs": [
    {
     "data": {
      "text/plain": [
       "['order_id', 'quantity', 'item_name', 'choice_description', 'item_price']"
      ]
     },
     "execution_count": 2,
     "metadata": {},
     "output_type": "execute_result"
    }
   ],
   "source": [
    "header = file_nested_list[0]\n",
    "header"
   ]
  },
  {
   "cell_type": "code",
   "execution_count": 3,
   "metadata": {},
   "outputs": [],
   "source": [
    "data = file_nested_list[1:]"
   ]
  },
  {
   "cell_type": "markdown",
   "metadata": {},
   "source": [
    "---\n",
    "\n",
    "## Intermediate Level"
   ]
  },
  {
   "cell_type": "markdown",
   "metadata": {},
   "source": [
    "### Part 3: Calculate the average price of an order.\n",
    "\n",
    "Hint: Examine the data to see if the `quantity` column is relevant to this calculation.\n",
    "\n",
    "Hint: Think carefully about the simplest way to do this!"
   ]
  },
  {
   "cell_type": "code",
   "execution_count": 4,
   "metadata": {},
   "outputs": [
    {
     "data": {
      "text/plain": [
       "[('1', '$3.39 '),\n",
       " ('1', '$3.39 '),\n",
       " ('1', '$3.39 '),\n",
       " ('1', '$3.39 '),\n",
       " ('1', '$3.39 '),\n",
       " ('1', '$3.39 '),\n",
       " ('2', '$6.78 '),\n",
       " ('1', '$3.39 '),\n",
       " ('1', '$3.39 '),\n",
       " ('1', '$3.39 ')]"
      ]
     },
     "execution_count": 4,
     "metadata": {},
     "output_type": "execute_result"
    }
   ],
   "source": [
    "def order (data, item):\n",
    "    order_item_price = []\n",
    "    for i in data :\n",
    "        if i[2] == item :\n",
    "            order_item_price = order_item_price + [(i[1],i[4])]\n",
    "    return order_item_price\n",
    "order(data, 'Nantucket Nectar')[0:10] # Checking for if quantity of order affect price in data\n",
    "#Quantity does not affect average price of an order as item_price takes into account the number of item ordered"
   ]
  },
  {
   "cell_type": "code",
   "execution_count": 5,
   "metadata": {},
   "outputs": [],
   "source": [
    "def number_of_order (data):\n",
    "    order_number = []\n",
    "    for i in data:\n",
    "        if i[0] in order_number:\n",
    "            pass\n",
    "        else :\n",
    "            order_number.append(i[0])\n",
    "    return len(order_number)"
   ]
  },
  {
   "cell_type": "code",
   "execution_count": 6,
   "metadata": {},
   "outputs": [],
   "source": [
    "def total_sales (data):\n",
    "    sales = 0\n",
    "    for i in data :\n",
    "        price = float(i[4].replace('$',''))\n",
    "        sales += price\n",
    "    return  sales"
   ]
  },
  {
   "cell_type": "code",
   "execution_count": 7,
   "metadata": {},
   "outputs": [
    {
     "data": {
      "text/plain": [
       "'$18.81'"
      ]
     },
     "execution_count": 7,
     "metadata": {},
     "output_type": "execute_result"
    }
   ],
   "source": [
    "def average_sales (data):\n",
    "    return '$' + str(round(total_sales(data)/number_of_order(data),2))\n",
    "\n",
    "average_sales(data)"
   ]
  },
  {
   "cell_type": "markdown",
   "metadata": {},
   "source": [
    "### Part 4: Create a list (or set) named `unique_sodas` containing all of unique sodas and soft drinks that Chipotle sells.\n",
    "\n",
    "Note: Just look for `'Canned Soda'` and `'Canned Soft Drink'`, and ignore other drinks like `'Izze'`."
   ]
  },
  {
   "cell_type": "code",
   "execution_count": 8,
   "metadata": {},
   "outputs": [
    {
     "data": {
      "text/plain": [
       "['[Sprite]',\n",
       " '[Dr. Pepper]',\n",
       " '[Mountain Dew]',\n",
       " '[Diet Dr. Pepper]',\n",
       " '[Coca Cola]',\n",
       " '[Diet Coke]',\n",
       " '[Coke]',\n",
       " '[Lemonade]',\n",
       " '[Nestea]']"
      ]
     },
     "execution_count": 8,
     "metadata": {},
     "output_type": "execute_result"
    }
   ],
   "source": [
    "def soda (data):\n",
    "    unique_sodas = []\n",
    "    for i in data:\n",
    "        if (i[2] == 'Canned Soda' or i[2] == 'Canned Soft Drink') and i[3] not in unique_sodas:\n",
    "            unique_sodas.append(i[3])\n",
    "    return unique_sodas\n",
    "\n",
    "unique_sodas= soda(data)\n",
    "\n",
    "unique_sodas\n",
    "        "
   ]
  },
  {
   "cell_type": "code",
   "execution_count": null,
   "metadata": {},
   "outputs": [],
   "source": []
  },
  {
   "cell_type": "code",
   "execution_count": null,
   "metadata": {},
   "outputs": [],
   "source": []
  },
  {
   "cell_type": "code",
   "execution_count": null,
   "metadata": {},
   "outputs": [],
   "source": []
  },
  {
   "cell_type": "markdown",
   "metadata": {},
   "source": [
    "---\n",
    "\n",
    "## Advanced Level\n"
   ]
  },
  {
   "cell_type": "markdown",
   "metadata": {},
   "source": [
    "### Part 5: Calculate the average number of toppings per burrito.\n",
    "\n",
    "Note: Let's ignore the `quantity` column to simplify this task.\n",
    "\n",
    "Hint: Think carefully about the easiest way to count the number of toppings!\n"
   ]
  },
  {
   "cell_type": "code",
   "execution_count": 9,
   "metadata": {},
   "outputs": [],
   "source": [
    "def average_topping(data):\n",
    "    number_topping = 0\n",
    "    number_order = 0\n",
    "    for i in data:\n",
    "        if 'Burrito' in i[2]:\n",
    "            number_topping += i[3].count(',') #Assuming Salsa sauce is not a topping\n",
    "            number_order +=1\n",
    "            \n",
    "    return number_topping/number_order\n",
    "        "
   ]
  },
  {
   "cell_type": "code",
   "execution_count": 10,
   "metadata": {},
   "outputs": [
    {
     "data": {
      "text/plain": [
       "4.395051194539249"
      ]
     },
     "execution_count": 10,
     "metadata": {},
     "output_type": "execute_result"
    }
   ],
   "source": [
    "average_topping(data)"
   ]
  },
  {
   "cell_type": "code",
   "execution_count": null,
   "metadata": {},
   "outputs": [],
   "source": []
  },
  {
   "cell_type": "code",
   "execution_count": null,
   "metadata": {},
   "outputs": [],
   "source": []
  },
  {
   "cell_type": "markdown",
   "metadata": {},
   "source": [
    "### Part 6: Create a dictionary. Let the keys represent chip orders and the values represent the total number of orders.\n",
    "\n",
    "Expected output: `{'Chips and Roasted Chili-Corn Salsa': 18, ... }`\n",
    "\n",
    "Note: Please take the `quantity` column into account!\n",
    "\n",
    "Optional: Learn how to use `.defaultdict()` to simplify your code."
   ]
  },
  {
   "cell_type": "code",
   "execution_count": 11,
   "metadata": {},
   "outputs": [
    {
     "data": {
      "text/plain": [
       "{'Chips': 230,\n",
       " 'Chips and Fresh Tomato Salsa': 130,\n",
       " 'Chips and Guacamole': 506,\n",
       " 'Chips and Mild Fresh Tomato Salsa': 1,\n",
       " 'Chips and Roasted Chili Corn Salsa': 23,\n",
       " 'Chips and Roasted Chili-Corn Salsa': 18,\n",
       " 'Chips and Tomatillo Green Chili Salsa': 45,\n",
       " 'Chips and Tomatillo Red Chili Salsa': 50,\n",
       " 'Chips and Tomatillo-Green Chili Salsa': 33,\n",
       " 'Chips and Tomatillo-Red Chili Salsa': 25,\n",
       " 'Side of Chips': 110}"
      ]
     },
     "execution_count": 11,
     "metadata": {},
     "output_type": "execute_result"
    }
   ],
   "source": [
    "chips_order = {}\n",
    "for i in data:\n",
    "    if 'Chips' in i[2] and i[2] not in chips_order :\n",
    "        chips_order[i[2]] =  int(i[1])\n",
    "    elif 'Chips' in i[2] :\n",
    "        chips_order[i[2]] += int(i[1])\n",
    "        \n",
    "chips_order"
   ]
  },
  {
   "cell_type": "code",
   "execution_count": null,
   "metadata": {},
   "outputs": [],
   "source": []
  },
  {
   "cell_type": "code",
   "execution_count": null,
   "metadata": {},
   "outputs": [],
   "source": []
  },
  {
   "cell_type": "code",
   "execution_count": null,
   "metadata": {},
   "outputs": [],
   "source": []
  },
  {
   "cell_type": "code",
   "execution_count": null,
   "metadata": {},
   "outputs": [],
   "source": []
  },
  {
   "cell_type": "markdown",
   "metadata": {},
   "source": [
    "---\n",
    "\n",
    "## Bonus: Craft a problem statement about this data that interests you, and then answer it!\n"
   ]
  },
  {
   "cell_type": "code",
   "execution_count": 12,
   "metadata": {},
   "outputs": [],
   "source": [
    "#Top item by revenue and number of order"
   ]
  },
  {
   "cell_type": "code",
   "execution_count": 13,
   "metadata": {},
   "outputs": [
    {
     "data": {
      "text/plain": [
       "('Chicken Bowl', 7342.729999999973)"
      ]
     },
     "execution_count": 13,
     "metadata": {},
     "output_type": "execute_result"
    }
   ],
   "source": [
    "item_revenue = {}\n",
    "\n",
    "for i in data :\n",
    "    if i[2] not in item_revenue :\n",
    "        item_revenue[i[2]] = round(float(i[4].replace('$','')),2)\n",
    "    else :\n",
    "        item_revenue[i[2]] += round(float(i[4].replace('$','')),2)\n",
    "\n",
    "sorted(item_revenue.items(), key = lambda x : x[1],reverse = True)[0]\n"
   ]
  },
  {
   "cell_type": "code",
   "execution_count": 14,
   "metadata": {},
   "outputs": [
    {
     "data": {
      "text/plain": [
       "('Chicken Bowl', 761)"
      ]
     },
     "execution_count": 14,
     "metadata": {},
     "output_type": "execute_result"
    }
   ],
   "source": [
    "item_order = {}\n",
    "\n",
    "for i in data :\n",
    "    if i[2] not in item_order :\n",
    "        item_order[i[2]] = int(i[1])\n",
    "    else :\n",
    "        item_order[i[2]] += int(i[1])\n",
    "\n",
    "sorted(item_order.items(), key = lambda x : x[1],reverse = True)[0]"
   ]
  },
  {
   "cell_type": "code",
   "execution_count": null,
   "metadata": {},
   "outputs": [],
   "source": []
  }
 ],
 "metadata": {
  "anaconda-cloud": {},
  "kernelspec": {
   "display_name": "Python 3",
   "language": "python",
   "name": "python3"
  },
  "language_info": {
   "codemirror_mode": {
    "name": "ipython",
    "version": 3
   },
   "file_extension": ".py",
   "mimetype": "text/x-python",
   "name": "python",
   "nbconvert_exporter": "python",
   "pygments_lexer": "ipython3",
   "version": "3.6.4"
  }
 },
 "nbformat": 4,
 "nbformat_minor": 2
}
