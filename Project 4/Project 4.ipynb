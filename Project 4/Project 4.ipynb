{
 "cells": [
  {
   "cell_type": "markdown",
   "metadata": {},
   "source": [
    "# Project 4 Sales Prediction\n"
   ]
  },
  {
   "cell_type": "markdown",
   "metadata": {},
   "source": [
    "Project Objective :\n",
    "\n",
    "1. To predict future sales based on historical data\n",
    "2. To model effect of feature on sale\n",
    "3. To provide recommnedaton based on analysis leading to business impact\n",
    "\n",
    "Dataset Description and source : \n",
    "The dataset is obtained from kaggle at the following link : https://www.kaggle.com/manjeetsingh/retaildataset\n",
    "It consists of 3 distinct dataset :\n",
    "1. Sales dataset : Historical sales data, which covers to 2010-02-05 to 2012-11-01.\n",
    "2. Stores dataset : Contains additional data related to the store, department, and regional activity for the given dates.\n",
    "3. Features dataset : Contains additional data related to the store, department, and regional activity for the given dates."
   ]
  },
  {
   "cell_type": "code",
   "execution_count": 1,
   "metadata": {},
   "outputs": [],
   "source": [
    "from matplotlib import pyplot as plt\n",
    "\n",
    "import pandas as pd\n",
    "import numpy as np\n",
    "import seaborn as sns\n",
    "\n",
    "%matplotlib inline"
   ]
  },
  {
   "cell_type": "code",
   "execution_count": 2,
   "metadata": {},
   "outputs": [],
   "source": [
    "#loading dataset for EDA\n",
    "\n",
    "sale_data = './Data/sales data-set.csv'\n",
    "store_data = './data/stores data-set.csv'\n",
    "feature_data = './data/Features data set.csv'"
   ]
  },
  {
   "cell_type": "code",
   "execution_count": 3,
   "metadata": {},
   "outputs": [],
   "source": [
    "sales = pd.read_csv(sale_data)\n",
    "store = pd.read_csv(store_data)\n",
    "feature = pd.read_csv(feature_data)"
   ]
  },
  {
   "cell_type": "markdown",
   "metadata": {},
   "source": [
    "# Data Cleaning\n"
   ]
  },
  {
   "cell_type": "code",
   "execution_count": 4,
   "metadata": {},
   "outputs": [
    {
     "data": {
      "text/html": [
       "<div>\n",
       "<style scoped>\n",
       "    .dataframe tbody tr th:only-of-type {\n",
       "        vertical-align: middle;\n",
       "    }\n",
       "\n",
       "    .dataframe tbody tr th {\n",
       "        vertical-align: top;\n",
       "    }\n",
       "\n",
       "    .dataframe thead th {\n",
       "        text-align: right;\n",
       "    }\n",
       "</style>\n",
       "<table border=\"1\" class=\"dataframe\">\n",
       "  <thead>\n",
       "    <tr style=\"text-align: right;\">\n",
       "      <th></th>\n",
       "      <th>Store</th>\n",
       "      <th>Dept</th>\n",
       "      <th>Date</th>\n",
       "      <th>Weekly_Sales</th>\n",
       "      <th>IsHoliday</th>\n",
       "    </tr>\n",
       "  </thead>\n",
       "  <tbody>\n",
       "    <tr>\n",
       "      <th>0</th>\n",
       "      <td>1</td>\n",
       "      <td>1</td>\n",
       "      <td>05/02/2010</td>\n",
       "      <td>24924.50</td>\n",
       "      <td>False</td>\n",
       "    </tr>\n",
       "    <tr>\n",
       "      <th>1</th>\n",
       "      <td>1</td>\n",
       "      <td>1</td>\n",
       "      <td>12/02/2010</td>\n",
       "      <td>46039.49</td>\n",
       "      <td>True</td>\n",
       "    </tr>\n",
       "    <tr>\n",
       "      <th>2</th>\n",
       "      <td>1</td>\n",
       "      <td>1</td>\n",
       "      <td>19/02/2010</td>\n",
       "      <td>41595.55</td>\n",
       "      <td>False</td>\n",
       "    </tr>\n",
       "    <tr>\n",
       "      <th>3</th>\n",
       "      <td>1</td>\n",
       "      <td>1</td>\n",
       "      <td>26/02/2010</td>\n",
       "      <td>19403.54</td>\n",
       "      <td>False</td>\n",
       "    </tr>\n",
       "    <tr>\n",
       "      <th>4</th>\n",
       "      <td>1</td>\n",
       "      <td>1</td>\n",
       "      <td>05/03/2010</td>\n",
       "      <td>21827.90</td>\n",
       "      <td>False</td>\n",
       "    </tr>\n",
       "  </tbody>\n",
       "</table>\n",
       "</div>"
      ],
      "text/plain": [
       "   Store  Dept        Date  Weekly_Sales  IsHoliday\n",
       "0      1     1  05/02/2010      24924.50      False\n",
       "1      1     1  12/02/2010      46039.49       True\n",
       "2      1     1  19/02/2010      41595.55      False\n",
       "3      1     1  26/02/2010      19403.54      False\n",
       "4      1     1  05/03/2010      21827.90      False"
      ]
     },
     "execution_count": 4,
     "metadata": {},
     "output_type": "execute_result"
    }
   ],
   "source": [
    "sales.head()"
   ]
  },
  {
   "cell_type": "code",
   "execution_count": 5,
   "metadata": {},
   "outputs": [
    {
     "name": "stdout",
     "output_type": "stream",
     "text": [
      "<class 'pandas.core.frame.DataFrame'>\n",
      "RangeIndex: 421570 entries, 0 to 421569\n",
      "Data columns (total 5 columns):\n",
      "Store           421570 non-null int64\n",
      "Dept            421570 non-null int64\n",
      "Date            421570 non-null object\n",
      "Weekly_Sales    421570 non-null float64\n",
      "IsHoliday       421570 non-null bool\n",
      "dtypes: bool(1), float64(1), int64(2), object(1)\n",
      "memory usage: 13.3+ MB\n"
     ]
    }
   ],
   "source": [
    "sales.info()"
   ]
  },
  {
   "cell_type": "code",
   "execution_count": 6,
   "metadata": {},
   "outputs": [],
   "source": [
    "#No null value found, Date might need to be changed to datetime format\n",
    "#Store and Department can also be changed to string as they are categorical features"
   ]
  },
  {
   "cell_type": "code",
   "execution_count": 7,
   "metadata": {},
   "outputs": [
    {
     "data": {
      "text/html": [
       "<div>\n",
       "<style scoped>\n",
       "    .dataframe tbody tr th:only-of-type {\n",
       "        vertical-align: middle;\n",
       "    }\n",
       "\n",
       "    .dataframe tbody tr th {\n",
       "        vertical-align: top;\n",
       "    }\n",
       "\n",
       "    .dataframe thead th {\n",
       "        text-align: right;\n",
       "    }\n",
       "</style>\n",
       "<table border=\"1\" class=\"dataframe\">\n",
       "  <thead>\n",
       "    <tr style=\"text-align: right;\">\n",
       "      <th></th>\n",
       "      <th>Store</th>\n",
       "      <th>Dept</th>\n",
       "      <th>Weekly_Sales</th>\n",
       "    </tr>\n",
       "  </thead>\n",
       "  <tbody>\n",
       "    <tr>\n",
       "      <th>count</th>\n",
       "      <td>421570.000000</td>\n",
       "      <td>421570.000000</td>\n",
       "      <td>421570.000000</td>\n",
       "    </tr>\n",
       "    <tr>\n",
       "      <th>mean</th>\n",
       "      <td>22.200546</td>\n",
       "      <td>44.260317</td>\n",
       "      <td>15981.258123</td>\n",
       "    </tr>\n",
       "    <tr>\n",
       "      <th>std</th>\n",
       "      <td>12.785297</td>\n",
       "      <td>30.492054</td>\n",
       "      <td>22711.183519</td>\n",
       "    </tr>\n",
       "    <tr>\n",
       "      <th>min</th>\n",
       "      <td>1.000000</td>\n",
       "      <td>1.000000</td>\n",
       "      <td>-4988.940000</td>\n",
       "    </tr>\n",
       "    <tr>\n",
       "      <th>25%</th>\n",
       "      <td>11.000000</td>\n",
       "      <td>18.000000</td>\n",
       "      <td>2079.650000</td>\n",
       "    </tr>\n",
       "    <tr>\n",
       "      <th>50%</th>\n",
       "      <td>22.000000</td>\n",
       "      <td>37.000000</td>\n",
       "      <td>7612.030000</td>\n",
       "    </tr>\n",
       "    <tr>\n",
       "      <th>75%</th>\n",
       "      <td>33.000000</td>\n",
       "      <td>74.000000</td>\n",
       "      <td>20205.852500</td>\n",
       "    </tr>\n",
       "    <tr>\n",
       "      <th>max</th>\n",
       "      <td>45.000000</td>\n",
       "      <td>99.000000</td>\n",
       "      <td>693099.360000</td>\n",
       "    </tr>\n",
       "  </tbody>\n",
       "</table>\n",
       "</div>"
      ],
      "text/plain": [
       "               Store           Dept   Weekly_Sales\n",
       "count  421570.000000  421570.000000  421570.000000\n",
       "mean       22.200546      44.260317   15981.258123\n",
       "std        12.785297      30.492054   22711.183519\n",
       "min         1.000000       1.000000   -4988.940000\n",
       "25%        11.000000      18.000000    2079.650000\n",
       "50%        22.000000      37.000000    7612.030000\n",
       "75%        33.000000      74.000000   20205.852500\n",
       "max        45.000000      99.000000  693099.360000"
      ]
     },
     "execution_count": 7,
     "metadata": {},
     "output_type": "execute_result"
    }
   ],
   "source": [
    "sales.describe()"
   ]
  },
  {
   "cell_type": "code",
   "execution_count": 8,
   "metadata": {},
   "outputs": [],
   "source": [
    "# There are negative value in the weekly sales, this require futher investigation"
   ]
  },
  {
   "cell_type": "code",
   "execution_count": 9,
   "metadata": {},
   "outputs": [
    {
     "data": {
      "text/plain": [
       "Store           1285\n",
       "Dept            1285\n",
       "Date            1285\n",
       "Weekly_Sales    1285\n",
       "IsHoliday       1285\n",
       "dtype: int64"
      ]
     },
     "execution_count": 9,
     "metadata": {},
     "output_type": "execute_result"
    }
   ],
   "source": [
    "sales[sales.Weekly_Sales<0].count()"
   ]
  },
  {
   "cell_type": "code",
   "execution_count": 10,
   "metadata": {},
   "outputs": [],
   "source": [
    "#As there are a significant number of negative valued weekly sales, the negative value should not be due to error\n",
    "#Negative sales value might be due to the return of product being more than the sales of products in that week "
   ]
  },
  {
   "cell_type": "code",
   "execution_count": 11,
   "metadata": {},
   "outputs": [
    {
     "data": {
      "text/html": [
       "<div>\n",
       "<style scoped>\n",
       "    .dataframe tbody tr th:only-of-type {\n",
       "        vertical-align: middle;\n",
       "    }\n",
       "\n",
       "    .dataframe tbody tr th {\n",
       "        vertical-align: top;\n",
       "    }\n",
       "\n",
       "    .dataframe thead th {\n",
       "        text-align: right;\n",
       "    }\n",
       "</style>\n",
       "<table border=\"1\" class=\"dataframe\">\n",
       "  <thead>\n",
       "    <tr style=\"text-align: right;\">\n",
       "      <th></th>\n",
       "      <th>Store</th>\n",
       "      <th>Type</th>\n",
       "      <th>Size</th>\n",
       "    </tr>\n",
       "  </thead>\n",
       "  <tbody>\n",
       "    <tr>\n",
       "      <th>0</th>\n",
       "      <td>1</td>\n",
       "      <td>A</td>\n",
       "      <td>151315</td>\n",
       "    </tr>\n",
       "    <tr>\n",
       "      <th>1</th>\n",
       "      <td>2</td>\n",
       "      <td>A</td>\n",
       "      <td>202307</td>\n",
       "    </tr>\n",
       "    <tr>\n",
       "      <th>2</th>\n",
       "      <td>3</td>\n",
       "      <td>B</td>\n",
       "      <td>37392</td>\n",
       "    </tr>\n",
       "    <tr>\n",
       "      <th>3</th>\n",
       "      <td>4</td>\n",
       "      <td>A</td>\n",
       "      <td>205863</td>\n",
       "    </tr>\n",
       "    <tr>\n",
       "      <th>4</th>\n",
       "      <td>5</td>\n",
       "      <td>B</td>\n",
       "      <td>34875</td>\n",
       "    </tr>\n",
       "  </tbody>\n",
       "</table>\n",
       "</div>"
      ],
      "text/plain": [
       "   Store Type    Size\n",
       "0      1    A  151315\n",
       "1      2    A  202307\n",
       "2      3    B   37392\n",
       "3      4    A  205863\n",
       "4      5    B   34875"
      ]
     },
     "execution_count": 11,
     "metadata": {},
     "output_type": "execute_result"
    }
   ],
   "source": [
    "store.head()"
   ]
  },
  {
   "cell_type": "code",
   "execution_count": 12,
   "metadata": {},
   "outputs": [
    {
     "name": "stdout",
     "output_type": "stream",
     "text": [
      "<class 'pandas.core.frame.DataFrame'>\n",
      "RangeIndex: 45 entries, 0 to 44\n",
      "Data columns (total 3 columns):\n",
      "Store    45 non-null int64\n",
      "Type     45 non-null object\n",
      "Size     45 non-null int64\n",
      "dtypes: int64(2), object(1)\n",
      "memory usage: 1.1+ KB\n"
     ]
    }
   ],
   "source": [
    "store.info()"
   ]
  },
  {
   "cell_type": "code",
   "execution_count": 13,
   "metadata": {},
   "outputs": [
    {
     "data": {
      "text/html": [
       "<div>\n",
       "<style scoped>\n",
       "    .dataframe tbody tr th:only-of-type {\n",
       "        vertical-align: middle;\n",
       "    }\n",
       "\n",
       "    .dataframe tbody tr th {\n",
       "        vertical-align: top;\n",
       "    }\n",
       "\n",
       "    .dataframe thead th {\n",
       "        text-align: right;\n",
       "    }\n",
       "</style>\n",
       "<table border=\"1\" class=\"dataframe\">\n",
       "  <thead>\n",
       "    <tr style=\"text-align: right;\">\n",
       "      <th></th>\n",
       "      <th>Store</th>\n",
       "      <th>Size</th>\n",
       "    </tr>\n",
       "  </thead>\n",
       "  <tbody>\n",
       "    <tr>\n",
       "      <th>count</th>\n",
       "      <td>45.000000</td>\n",
       "      <td>45.000000</td>\n",
       "    </tr>\n",
       "    <tr>\n",
       "      <th>mean</th>\n",
       "      <td>23.000000</td>\n",
       "      <td>130287.600000</td>\n",
       "    </tr>\n",
       "    <tr>\n",
       "      <th>std</th>\n",
       "      <td>13.133926</td>\n",
       "      <td>63825.271991</td>\n",
       "    </tr>\n",
       "    <tr>\n",
       "      <th>min</th>\n",
       "      <td>1.000000</td>\n",
       "      <td>34875.000000</td>\n",
       "    </tr>\n",
       "    <tr>\n",
       "      <th>25%</th>\n",
       "      <td>12.000000</td>\n",
       "      <td>70713.000000</td>\n",
       "    </tr>\n",
       "    <tr>\n",
       "      <th>50%</th>\n",
       "      <td>23.000000</td>\n",
       "      <td>126512.000000</td>\n",
       "    </tr>\n",
       "    <tr>\n",
       "      <th>75%</th>\n",
       "      <td>34.000000</td>\n",
       "      <td>202307.000000</td>\n",
       "    </tr>\n",
       "    <tr>\n",
       "      <th>max</th>\n",
       "      <td>45.000000</td>\n",
       "      <td>219622.000000</td>\n",
       "    </tr>\n",
       "  </tbody>\n",
       "</table>\n",
       "</div>"
      ],
      "text/plain": [
       "           Store           Size\n",
       "count  45.000000      45.000000\n",
       "mean   23.000000  130287.600000\n",
       "std    13.133926   63825.271991\n",
       "min     1.000000   34875.000000\n",
       "25%    12.000000   70713.000000\n",
       "50%    23.000000  126512.000000\n",
       "75%    34.000000  202307.000000\n",
       "max    45.000000  219622.000000"
      ]
     },
     "execution_count": 13,
     "metadata": {},
     "output_type": "execute_result"
    }
   ],
   "source": [
    "store.describe()"
   ]
  },
  {
   "cell_type": "code",
   "execution_count": 14,
   "metadata": {},
   "outputs": [],
   "source": [
    "#No null value and abnormal value in size "
   ]
  },
  {
   "cell_type": "code",
   "execution_count": 15,
   "metadata": {},
   "outputs": [
    {
     "data": {
      "text/html": [
       "<div>\n",
       "<style scoped>\n",
       "    .dataframe tbody tr th:only-of-type {\n",
       "        vertical-align: middle;\n",
       "    }\n",
       "\n",
       "    .dataframe tbody tr th {\n",
       "        vertical-align: top;\n",
       "    }\n",
       "\n",
       "    .dataframe thead th {\n",
       "        text-align: right;\n",
       "    }\n",
       "</style>\n",
       "<table border=\"1\" class=\"dataframe\">\n",
       "  <thead>\n",
       "    <tr style=\"text-align: right;\">\n",
       "      <th></th>\n",
       "      <th>Store</th>\n",
       "      <th>Date</th>\n",
       "      <th>Temperature</th>\n",
       "      <th>Fuel_Price</th>\n",
       "      <th>MarkDown1</th>\n",
       "      <th>MarkDown2</th>\n",
       "      <th>MarkDown3</th>\n",
       "      <th>MarkDown4</th>\n",
       "      <th>MarkDown5</th>\n",
       "      <th>CPI</th>\n",
       "      <th>Unemployment</th>\n",
       "      <th>IsHoliday</th>\n",
       "    </tr>\n",
       "  </thead>\n",
       "  <tbody>\n",
       "    <tr>\n",
       "      <th>0</th>\n",
       "      <td>1</td>\n",
       "      <td>05/02/2010</td>\n",
       "      <td>42.31</td>\n",
       "      <td>2.572</td>\n",
       "      <td>NaN</td>\n",
       "      <td>NaN</td>\n",
       "      <td>NaN</td>\n",
       "      <td>NaN</td>\n",
       "      <td>NaN</td>\n",
       "      <td>211.096358</td>\n",
       "      <td>8.106</td>\n",
       "      <td>False</td>\n",
       "    </tr>\n",
       "    <tr>\n",
       "      <th>1</th>\n",
       "      <td>1</td>\n",
       "      <td>12/02/2010</td>\n",
       "      <td>38.51</td>\n",
       "      <td>2.548</td>\n",
       "      <td>NaN</td>\n",
       "      <td>NaN</td>\n",
       "      <td>NaN</td>\n",
       "      <td>NaN</td>\n",
       "      <td>NaN</td>\n",
       "      <td>211.242170</td>\n",
       "      <td>8.106</td>\n",
       "      <td>True</td>\n",
       "    </tr>\n",
       "    <tr>\n",
       "      <th>2</th>\n",
       "      <td>1</td>\n",
       "      <td>19/02/2010</td>\n",
       "      <td>39.93</td>\n",
       "      <td>2.514</td>\n",
       "      <td>NaN</td>\n",
       "      <td>NaN</td>\n",
       "      <td>NaN</td>\n",
       "      <td>NaN</td>\n",
       "      <td>NaN</td>\n",
       "      <td>211.289143</td>\n",
       "      <td>8.106</td>\n",
       "      <td>False</td>\n",
       "    </tr>\n",
       "    <tr>\n",
       "      <th>3</th>\n",
       "      <td>1</td>\n",
       "      <td>26/02/2010</td>\n",
       "      <td>46.63</td>\n",
       "      <td>2.561</td>\n",
       "      <td>NaN</td>\n",
       "      <td>NaN</td>\n",
       "      <td>NaN</td>\n",
       "      <td>NaN</td>\n",
       "      <td>NaN</td>\n",
       "      <td>211.319643</td>\n",
       "      <td>8.106</td>\n",
       "      <td>False</td>\n",
       "    </tr>\n",
       "    <tr>\n",
       "      <th>4</th>\n",
       "      <td>1</td>\n",
       "      <td>05/03/2010</td>\n",
       "      <td>46.50</td>\n",
       "      <td>2.625</td>\n",
       "      <td>NaN</td>\n",
       "      <td>NaN</td>\n",
       "      <td>NaN</td>\n",
       "      <td>NaN</td>\n",
       "      <td>NaN</td>\n",
       "      <td>211.350143</td>\n",
       "      <td>8.106</td>\n",
       "      <td>False</td>\n",
       "    </tr>\n",
       "  </tbody>\n",
       "</table>\n",
       "</div>"
      ],
      "text/plain": [
       "   Store        Date  Temperature  Fuel_Price  MarkDown1  MarkDown2  \\\n",
       "0      1  05/02/2010        42.31       2.572        NaN        NaN   \n",
       "1      1  12/02/2010        38.51       2.548        NaN        NaN   \n",
       "2      1  19/02/2010        39.93       2.514        NaN        NaN   \n",
       "3      1  26/02/2010        46.63       2.561        NaN        NaN   \n",
       "4      1  05/03/2010        46.50       2.625        NaN        NaN   \n",
       "\n",
       "   MarkDown3  MarkDown4  MarkDown5         CPI  Unemployment  IsHoliday  \n",
       "0        NaN        NaN        NaN  211.096358         8.106      False  \n",
       "1        NaN        NaN        NaN  211.242170         8.106       True  \n",
       "2        NaN        NaN        NaN  211.289143         8.106      False  \n",
       "3        NaN        NaN        NaN  211.319643         8.106      False  \n",
       "4        NaN        NaN        NaN  211.350143         8.106      False  "
      ]
     },
     "execution_count": 15,
     "metadata": {},
     "output_type": "execute_result"
    }
   ],
   "source": [
    "feature.head()"
   ]
  },
  {
   "cell_type": "code",
   "execution_count": 16,
   "metadata": {},
   "outputs": [
    {
     "name": "stdout",
     "output_type": "stream",
     "text": [
      "<class 'pandas.core.frame.DataFrame'>\n",
      "RangeIndex: 8190 entries, 0 to 8189\n",
      "Data columns (total 12 columns):\n",
      "Store           8190 non-null int64\n",
      "Date            8190 non-null object\n",
      "Temperature     8190 non-null float64\n",
      "Fuel_Price      8190 non-null float64\n",
      "MarkDown1       4032 non-null float64\n",
      "MarkDown2       2921 non-null float64\n",
      "MarkDown3       3613 non-null float64\n",
      "MarkDown4       3464 non-null float64\n",
      "MarkDown5       4050 non-null float64\n",
      "CPI             7605 non-null float64\n",
      "Unemployment    7605 non-null float64\n",
      "IsHoliday       8190 non-null bool\n",
      "dtypes: bool(1), float64(9), int64(1), object(1)\n",
      "memory usage: 711.9+ KB\n"
     ]
    }
   ],
   "source": [
    "feature.info()"
   ]
  },
  {
   "cell_type": "code",
   "execution_count": 17,
   "metadata": {},
   "outputs": [
    {
     "data": {
      "text/html": [
       "<div>\n",
       "<style scoped>\n",
       "    .dataframe tbody tr th:only-of-type {\n",
       "        vertical-align: middle;\n",
       "    }\n",
       "\n",
       "    .dataframe tbody tr th {\n",
       "        vertical-align: top;\n",
       "    }\n",
       "\n",
       "    .dataframe thead th {\n",
       "        text-align: right;\n",
       "    }\n",
       "</style>\n",
       "<table border=\"1\" class=\"dataframe\">\n",
       "  <thead>\n",
       "    <tr style=\"text-align: right;\">\n",
       "      <th></th>\n",
       "      <th>Store</th>\n",
       "      <th>Temperature</th>\n",
       "      <th>Fuel_Price</th>\n",
       "      <th>MarkDown1</th>\n",
       "      <th>MarkDown2</th>\n",
       "      <th>MarkDown3</th>\n",
       "      <th>MarkDown4</th>\n",
       "      <th>MarkDown5</th>\n",
       "      <th>CPI</th>\n",
       "      <th>Unemployment</th>\n",
       "    </tr>\n",
       "  </thead>\n",
       "  <tbody>\n",
       "    <tr>\n",
       "      <th>count</th>\n",
       "      <td>8190.000000</td>\n",
       "      <td>8190.000000</td>\n",
       "      <td>8190.000000</td>\n",
       "      <td>4032.000000</td>\n",
       "      <td>2921.000000</td>\n",
       "      <td>3613.000000</td>\n",
       "      <td>3464.000000</td>\n",
       "      <td>4050.000000</td>\n",
       "      <td>7605.000000</td>\n",
       "      <td>7605.000000</td>\n",
       "    </tr>\n",
       "    <tr>\n",
       "      <th>mean</th>\n",
       "      <td>23.000000</td>\n",
       "      <td>59.356198</td>\n",
       "      <td>3.405992</td>\n",
       "      <td>7032.371786</td>\n",
       "      <td>3384.176594</td>\n",
       "      <td>1760.100180</td>\n",
       "      <td>3292.935886</td>\n",
       "      <td>4132.216422</td>\n",
       "      <td>172.460809</td>\n",
       "      <td>7.826821</td>\n",
       "    </tr>\n",
       "    <tr>\n",
       "      <th>std</th>\n",
       "      <td>12.987966</td>\n",
       "      <td>18.678607</td>\n",
       "      <td>0.431337</td>\n",
       "      <td>9262.747448</td>\n",
       "      <td>8793.583016</td>\n",
       "      <td>11276.462208</td>\n",
       "      <td>6792.329861</td>\n",
       "      <td>13086.690278</td>\n",
       "      <td>39.738346</td>\n",
       "      <td>1.877259</td>\n",
       "    </tr>\n",
       "    <tr>\n",
       "      <th>min</th>\n",
       "      <td>1.000000</td>\n",
       "      <td>-7.290000</td>\n",
       "      <td>2.472000</td>\n",
       "      <td>-2781.450000</td>\n",
       "      <td>-265.760000</td>\n",
       "      <td>-179.260000</td>\n",
       "      <td>0.220000</td>\n",
       "      <td>-185.170000</td>\n",
       "      <td>126.064000</td>\n",
       "      <td>3.684000</td>\n",
       "    </tr>\n",
       "    <tr>\n",
       "      <th>25%</th>\n",
       "      <td>12.000000</td>\n",
       "      <td>45.902500</td>\n",
       "      <td>3.041000</td>\n",
       "      <td>1577.532500</td>\n",
       "      <td>68.880000</td>\n",
       "      <td>6.600000</td>\n",
       "      <td>304.687500</td>\n",
       "      <td>1440.827500</td>\n",
       "      <td>132.364839</td>\n",
       "      <td>6.634000</td>\n",
       "    </tr>\n",
       "    <tr>\n",
       "      <th>50%</th>\n",
       "      <td>23.000000</td>\n",
       "      <td>60.710000</td>\n",
       "      <td>3.513000</td>\n",
       "      <td>4743.580000</td>\n",
       "      <td>364.570000</td>\n",
       "      <td>36.260000</td>\n",
       "      <td>1176.425000</td>\n",
       "      <td>2727.135000</td>\n",
       "      <td>182.764003</td>\n",
       "      <td>7.806000</td>\n",
       "    </tr>\n",
       "    <tr>\n",
       "      <th>75%</th>\n",
       "      <td>34.000000</td>\n",
       "      <td>73.880000</td>\n",
       "      <td>3.743000</td>\n",
       "      <td>8923.310000</td>\n",
       "      <td>2153.350000</td>\n",
       "      <td>163.150000</td>\n",
       "      <td>3310.007500</td>\n",
       "      <td>4832.555000</td>\n",
       "      <td>213.932412</td>\n",
       "      <td>8.567000</td>\n",
       "    </tr>\n",
       "    <tr>\n",
       "      <th>max</th>\n",
       "      <td>45.000000</td>\n",
       "      <td>101.950000</td>\n",
       "      <td>4.468000</td>\n",
       "      <td>103184.980000</td>\n",
       "      <td>104519.540000</td>\n",
       "      <td>149483.310000</td>\n",
       "      <td>67474.850000</td>\n",
       "      <td>771448.100000</td>\n",
       "      <td>228.976456</td>\n",
       "      <td>14.313000</td>\n",
       "    </tr>\n",
       "  </tbody>\n",
       "</table>\n",
       "</div>"
      ],
      "text/plain": [
       "             Store  Temperature   Fuel_Price      MarkDown1      MarkDown2  \\\n",
       "count  8190.000000  8190.000000  8190.000000    4032.000000    2921.000000   \n",
       "mean     23.000000    59.356198     3.405992    7032.371786    3384.176594   \n",
       "std      12.987966    18.678607     0.431337    9262.747448    8793.583016   \n",
       "min       1.000000    -7.290000     2.472000   -2781.450000    -265.760000   \n",
       "25%      12.000000    45.902500     3.041000    1577.532500      68.880000   \n",
       "50%      23.000000    60.710000     3.513000    4743.580000     364.570000   \n",
       "75%      34.000000    73.880000     3.743000    8923.310000    2153.350000   \n",
       "max      45.000000   101.950000     4.468000  103184.980000  104519.540000   \n",
       "\n",
       "           MarkDown3     MarkDown4      MarkDown5          CPI  Unemployment  \n",
       "count    3613.000000   3464.000000    4050.000000  7605.000000   7605.000000  \n",
       "mean     1760.100180   3292.935886    4132.216422   172.460809      7.826821  \n",
       "std     11276.462208   6792.329861   13086.690278    39.738346      1.877259  \n",
       "min      -179.260000      0.220000    -185.170000   126.064000      3.684000  \n",
       "25%         6.600000    304.687500    1440.827500   132.364839      6.634000  \n",
       "50%        36.260000   1176.425000    2727.135000   182.764003      7.806000  \n",
       "75%       163.150000   3310.007500    4832.555000   213.932412      8.567000  \n",
       "max    149483.310000  67474.850000  771448.100000   228.976456     14.313000  "
      ]
     },
     "execution_count": 17,
     "metadata": {},
     "output_type": "execute_result"
    }
   ],
   "source": [
    "feature.describe()"
   ]
  },
  {
   "cell_type": "code",
   "execution_count": 18,
   "metadata": {},
   "outputs": [],
   "source": [
    "# There are multiple columns with null value\n",
    "# For Markdown column, as the data is anonymized and we do not have any reasonable method to estimate the value \n",
    "# We will handle it as 0 for now\n"
   ]
  },
  {
   "cell_type": "code",
   "execution_count": 19,
   "metadata": {},
   "outputs": [
    {
     "name": "stdout",
     "output_type": "stream",
     "text": [
      "<class 'pandas.core.frame.DataFrame'>\n",
      "RangeIndex: 8190 entries, 0 to 8189\n",
      "Data columns (total 12 columns):\n",
      "Store           8190 non-null int64\n",
      "Date            8190 non-null object\n",
      "Temperature     8190 non-null float64\n",
      "Fuel_Price      8190 non-null float64\n",
      "MarkDown1       8190 non-null float64\n",
      "MarkDown2       8190 non-null float64\n",
      "MarkDown3       8190 non-null float64\n",
      "MarkDown4       8190 non-null float64\n",
      "MarkDown5       8190 non-null float64\n",
      "CPI             7605 non-null float64\n",
      "Unemployment    7605 non-null float64\n",
      "IsHoliday       8190 non-null bool\n",
      "dtypes: bool(1), float64(9), int64(1), object(1)\n",
      "memory usage: 711.9+ KB\n"
     ]
    }
   ],
   "source": [
    "feature.MarkDown1 = feature.MarkDown1.fillna(0)\n",
    "feature.MarkDown2 = feature.MarkDown2.fillna(0)\n",
    "feature.MarkDown3 = feature.MarkDown3.fillna(0)\n",
    "feature.MarkDown4 = feature.MarkDown4.fillna(0)\n",
    "feature.MarkDown5 = feature.MarkDown5.fillna(0)\n",
    "feature.info()"
   ]
  },
  {
   "cell_type": "code",
   "execution_count": 20,
   "metadata": {},
   "outputs": [
    {
     "data": {
      "text/html": [
       "<div>\n",
       "<style scoped>\n",
       "    .dataframe tbody tr th:only-of-type {\n",
       "        vertical-align: middle;\n",
       "    }\n",
       "\n",
       "    .dataframe tbody tr th {\n",
       "        vertical-align: top;\n",
       "    }\n",
       "\n",
       "    .dataframe thead th {\n",
       "        text-align: right;\n",
       "    }\n",
       "</style>\n",
       "<table border=\"1\" class=\"dataframe\">\n",
       "  <thead>\n",
       "    <tr style=\"text-align: right;\">\n",
       "      <th></th>\n",
       "      <th>Store</th>\n",
       "      <th>Temperature</th>\n",
       "      <th>Fuel_Price</th>\n",
       "      <th>MarkDown1</th>\n",
       "      <th>MarkDown2</th>\n",
       "      <th>MarkDown3</th>\n",
       "      <th>MarkDown4</th>\n",
       "      <th>MarkDown5</th>\n",
       "      <th>CPI</th>\n",
       "      <th>Unemployment</th>\n",
       "    </tr>\n",
       "  </thead>\n",
       "  <tbody>\n",
       "    <tr>\n",
       "      <th>count</th>\n",
       "      <td>8190.000000</td>\n",
       "      <td>8190.000000</td>\n",
       "      <td>8190.000000</td>\n",
       "      <td>8190.000000</td>\n",
       "      <td>8190.000000</td>\n",
       "      <td>8190.000000</td>\n",
       "      <td>8190.000000</td>\n",
       "      <td>8190.000000</td>\n",
       "      <td>7605.000000</td>\n",
       "      <td>7605.000000</td>\n",
       "    </tr>\n",
       "    <tr>\n",
       "      <th>mean</th>\n",
       "      <td>23.000000</td>\n",
       "      <td>59.356198</td>\n",
       "      <td>3.405992</td>\n",
       "      <td>3462.090725</td>\n",
       "      <td>1206.981664</td>\n",
       "      <td>776.464219</td>\n",
       "      <td>1392.763115</td>\n",
       "      <td>2043.403725</td>\n",
       "      <td>172.460809</td>\n",
       "      <td>7.826821</td>\n",
       "    </tr>\n",
       "    <tr>\n",
       "      <th>std</th>\n",
       "      <td>12.987966</td>\n",
       "      <td>18.678607</td>\n",
       "      <td>0.431337</td>\n",
       "      <td>7388.916286</td>\n",
       "      <td>5495.556015</td>\n",
       "      <td>7539.953758</td>\n",
       "      <td>4707.111488</td>\n",
       "      <td>9431.223215</td>\n",
       "      <td>39.738346</td>\n",
       "      <td>1.877259</td>\n",
       "    </tr>\n",
       "    <tr>\n",
       "      <th>min</th>\n",
       "      <td>1.000000</td>\n",
       "      <td>-7.290000</td>\n",
       "      <td>2.472000</td>\n",
       "      <td>-2781.450000</td>\n",
       "      <td>-265.760000</td>\n",
       "      <td>-179.260000</td>\n",
       "      <td>0.000000</td>\n",
       "      <td>-185.170000</td>\n",
       "      <td>126.064000</td>\n",
       "      <td>3.684000</td>\n",
       "    </tr>\n",
       "    <tr>\n",
       "      <th>25%</th>\n",
       "      <td>12.000000</td>\n",
       "      <td>45.902500</td>\n",
       "      <td>3.041000</td>\n",
       "      <td>0.000000</td>\n",
       "      <td>0.000000</td>\n",
       "      <td>0.000000</td>\n",
       "      <td>0.000000</td>\n",
       "      <td>0.000000</td>\n",
       "      <td>132.364839</td>\n",
       "      <td>6.634000</td>\n",
       "    </tr>\n",
       "    <tr>\n",
       "      <th>50%</th>\n",
       "      <td>23.000000</td>\n",
       "      <td>60.710000</td>\n",
       "      <td>3.513000</td>\n",
       "      <td>0.000000</td>\n",
       "      <td>0.000000</td>\n",
       "      <td>0.000000</td>\n",
       "      <td>0.000000</td>\n",
       "      <td>0.000000</td>\n",
       "      <td>182.764003</td>\n",
       "      <td>7.806000</td>\n",
       "    </tr>\n",
       "    <tr>\n",
       "      <th>75%</th>\n",
       "      <td>34.000000</td>\n",
       "      <td>73.880000</td>\n",
       "      <td>3.743000</td>\n",
       "      <td>4639.585000</td>\n",
       "      <td>98.590000</td>\n",
       "      <td>24.220000</td>\n",
       "      <td>774.692500</td>\n",
       "      <td>2680.295000</td>\n",
       "      <td>213.932412</td>\n",
       "      <td>8.567000</td>\n",
       "    </tr>\n",
       "    <tr>\n",
       "      <th>max</th>\n",
       "      <td>45.000000</td>\n",
       "      <td>101.950000</td>\n",
       "      <td>4.468000</td>\n",
       "      <td>103184.980000</td>\n",
       "      <td>104519.540000</td>\n",
       "      <td>149483.310000</td>\n",
       "      <td>67474.850000</td>\n",
       "      <td>771448.100000</td>\n",
       "      <td>228.976456</td>\n",
       "      <td>14.313000</td>\n",
       "    </tr>\n",
       "  </tbody>\n",
       "</table>\n",
       "</div>"
      ],
      "text/plain": [
       "             Store  Temperature   Fuel_Price      MarkDown1      MarkDown2  \\\n",
       "count  8190.000000  8190.000000  8190.000000    8190.000000    8190.000000   \n",
       "mean     23.000000    59.356198     3.405992    3462.090725    1206.981664   \n",
       "std      12.987966    18.678607     0.431337    7388.916286    5495.556015   \n",
       "min       1.000000    -7.290000     2.472000   -2781.450000    -265.760000   \n",
       "25%      12.000000    45.902500     3.041000       0.000000       0.000000   \n",
       "50%      23.000000    60.710000     3.513000       0.000000       0.000000   \n",
       "75%      34.000000    73.880000     3.743000    4639.585000      98.590000   \n",
       "max      45.000000   101.950000     4.468000  103184.980000  104519.540000   \n",
       "\n",
       "           MarkDown3     MarkDown4      MarkDown5          CPI  Unemployment  \n",
       "count    8190.000000   8190.000000    8190.000000  7605.000000   7605.000000  \n",
       "mean      776.464219   1392.763115    2043.403725   172.460809      7.826821  \n",
       "std      7539.953758   4707.111488    9431.223215    39.738346      1.877259  \n",
       "min      -179.260000      0.000000    -185.170000   126.064000      3.684000  \n",
       "25%         0.000000      0.000000       0.000000   132.364839      6.634000  \n",
       "50%         0.000000      0.000000       0.000000   182.764003      7.806000  \n",
       "75%        24.220000    774.692500    2680.295000   213.932412      8.567000  \n",
       "max    149483.310000  67474.850000  771448.100000   228.976456     14.313000  "
      ]
     },
     "execution_count": 20,
     "metadata": {},
     "output_type": "execute_result"
    }
   ],
   "source": [
    "feature.describe()"
   ]
  },
  {
   "cell_type": "code",
   "execution_count": 21,
   "metadata": {},
   "outputs": [
    {
     "data": {
      "text/plain": [
       "03/05/2013    45\n",
       "24/05/2013    45\n",
       "28/06/2013    45\n",
       "31/05/2013    45\n",
       "14/06/2013    45\n",
       "19/07/2013    45\n",
       "10/05/2013    45\n",
       "07/06/2013    45\n",
       "17/05/2013    45\n",
       "05/07/2013    45\n",
       "21/06/2013    45\n",
       "12/07/2013    45\n",
       "26/07/2013    45\n",
       "Name: Date, dtype: int64"
      ]
     },
     "execution_count": 21,
     "metadata": {},
     "output_type": "execute_result"
    }
   ],
   "source": [
    "feature[feature.CPI.isnull() &feature.Unemployment.isnull()].Date.value_counts()"
   ]
  },
  {
   "cell_type": "code",
   "execution_count": 22,
   "metadata": {},
   "outputs": [],
   "source": [
    "# As the missing value fro CPI and Unemployment is out of the date range of our sales data no further action need to be taken\n",
    "# Otherwise a possible way to treat the empty value is to use the anual average for 2013 or from other dataset"
   ]
  },
  {
   "cell_type": "markdown",
   "metadata": {},
   "source": [
    "# Combining Dataset\n",
    "Now that the individual dataset is sufficiently cleaned we can proceed to merge the 3 different dataset into a signle datase "
   ]
  },
  {
   "cell_type": "code",
   "execution_count": 23,
   "metadata": {},
   "outputs": [],
   "source": [
    "data = pd.merge(sales,store, left_on = 'Store',right_on='Store')"
   ]
  },
  {
   "cell_type": "code",
   "execution_count": 24,
   "metadata": {},
   "outputs": [
    {
     "data": {
      "text/plain": [
       "(421570, 7)"
      ]
     },
     "execution_count": 24,
     "metadata": {},
     "output_type": "execute_result"
    }
   ],
   "source": [
    "data.shape"
   ]
  },
  {
   "cell_type": "code",
   "execution_count": 25,
   "metadata": {},
   "outputs": [
    {
     "name": "stdout",
     "output_type": "stream",
     "text": [
      "<class 'pandas.core.frame.DataFrame'>\n",
      "Int64Index: 421570 entries, 0 to 421569\n",
      "Data columns (total 7 columns):\n",
      "Store           421570 non-null int64\n",
      "Dept            421570 non-null int64\n",
      "Date            421570 non-null object\n",
      "Weekly_Sales    421570 non-null float64\n",
      "IsHoliday       421570 non-null bool\n",
      "Type            421570 non-null object\n",
      "Size            421570 non-null int64\n",
      "dtypes: bool(1), float64(1), int64(3), object(2)\n",
      "memory usage: 22.9+ MB\n"
     ]
    }
   ],
   "source": [
    "data.info()"
   ]
  },
  {
   "cell_type": "code",
   "execution_count": 26,
   "metadata": {},
   "outputs": [],
   "source": [
    "data = pd.merge(data,feature, left_on = ['Date','Store','IsHoliday'],right_on=['Date','Store','IsHoliday'])"
   ]
  },
  {
   "cell_type": "code",
   "execution_count": 27,
   "metadata": {},
   "outputs": [
    {
     "data": {
      "text/plain": [
       "(421570, 16)"
      ]
     },
     "execution_count": 27,
     "metadata": {},
     "output_type": "execute_result"
    }
   ],
   "source": [
    "data.shape"
   ]
  },
  {
   "cell_type": "code",
   "execution_count": 28,
   "metadata": {},
   "outputs": [
    {
     "name": "stdout",
     "output_type": "stream",
     "text": [
      "<class 'pandas.core.frame.DataFrame'>\n",
      "Int64Index: 421570 entries, 0 to 421569\n",
      "Data columns (total 16 columns):\n",
      "Store           421570 non-null int64\n",
      "Dept            421570 non-null int64\n",
      "Date            421570 non-null object\n",
      "Weekly_Sales    421570 non-null float64\n",
      "IsHoliday       421570 non-null bool\n",
      "Type            421570 non-null object\n",
      "Size            421570 non-null int64\n",
      "Temperature     421570 non-null float64\n",
      "Fuel_Price      421570 non-null float64\n",
      "MarkDown1       421570 non-null float64\n",
      "MarkDown2       421570 non-null float64\n",
      "MarkDown3       421570 non-null float64\n",
      "MarkDown4       421570 non-null float64\n",
      "MarkDown5       421570 non-null float64\n",
      "CPI             421570 non-null float64\n",
      "Unemployment    421570 non-null float64\n",
      "dtypes: bool(1), float64(10), int64(3), object(2)\n",
      "memory usage: 51.9+ MB\n"
     ]
    }
   ],
   "source": [
    "data.info()"
   ]
  },
  {
   "cell_type": "code",
   "execution_count": 29,
   "metadata": {},
   "outputs": [
    {
     "data": {
      "text/html": [
       "<div>\n",
       "<style scoped>\n",
       "    .dataframe tbody tr th:only-of-type {\n",
       "        vertical-align: middle;\n",
       "    }\n",
       "\n",
       "    .dataframe tbody tr th {\n",
       "        vertical-align: top;\n",
       "    }\n",
       "\n",
       "    .dataframe thead th {\n",
       "        text-align: right;\n",
       "    }\n",
       "</style>\n",
       "<table border=\"1\" class=\"dataframe\">\n",
       "  <thead>\n",
       "    <tr style=\"text-align: right;\">\n",
       "      <th></th>\n",
       "      <th>Store</th>\n",
       "      <th>Dept</th>\n",
       "      <th>Date</th>\n",
       "      <th>Weekly_Sales</th>\n",
       "      <th>IsHoliday</th>\n",
       "      <th>Type</th>\n",
       "      <th>Size</th>\n",
       "      <th>Temperature</th>\n",
       "      <th>Fuel_Price</th>\n",
       "      <th>MarkDown1</th>\n",
       "      <th>MarkDown2</th>\n",
       "      <th>MarkDown3</th>\n",
       "      <th>MarkDown4</th>\n",
       "      <th>MarkDown5</th>\n",
       "      <th>CPI</th>\n",
       "      <th>Unemployment</th>\n",
       "    </tr>\n",
       "  </thead>\n",
       "  <tbody>\n",
       "    <tr>\n",
       "      <th>0</th>\n",
       "      <td>1</td>\n",
       "      <td>1</td>\n",
       "      <td>05/02/2010</td>\n",
       "      <td>24924.50</td>\n",
       "      <td>False</td>\n",
       "      <td>A</td>\n",
       "      <td>151315</td>\n",
       "      <td>42.31</td>\n",
       "      <td>2.572</td>\n",
       "      <td>0.0</td>\n",
       "      <td>0.0</td>\n",
       "      <td>0.0</td>\n",
       "      <td>0.0</td>\n",
       "      <td>0.0</td>\n",
       "      <td>211.096358</td>\n",
       "      <td>8.106</td>\n",
       "    </tr>\n",
       "    <tr>\n",
       "      <th>1</th>\n",
       "      <td>1</td>\n",
       "      <td>2</td>\n",
       "      <td>05/02/2010</td>\n",
       "      <td>50605.27</td>\n",
       "      <td>False</td>\n",
       "      <td>A</td>\n",
       "      <td>151315</td>\n",
       "      <td>42.31</td>\n",
       "      <td>2.572</td>\n",
       "      <td>0.0</td>\n",
       "      <td>0.0</td>\n",
       "      <td>0.0</td>\n",
       "      <td>0.0</td>\n",
       "      <td>0.0</td>\n",
       "      <td>211.096358</td>\n",
       "      <td>8.106</td>\n",
       "    </tr>\n",
       "    <tr>\n",
       "      <th>2</th>\n",
       "      <td>1</td>\n",
       "      <td>3</td>\n",
       "      <td>05/02/2010</td>\n",
       "      <td>13740.12</td>\n",
       "      <td>False</td>\n",
       "      <td>A</td>\n",
       "      <td>151315</td>\n",
       "      <td>42.31</td>\n",
       "      <td>2.572</td>\n",
       "      <td>0.0</td>\n",
       "      <td>0.0</td>\n",
       "      <td>0.0</td>\n",
       "      <td>0.0</td>\n",
       "      <td>0.0</td>\n",
       "      <td>211.096358</td>\n",
       "      <td>8.106</td>\n",
       "    </tr>\n",
       "    <tr>\n",
       "      <th>3</th>\n",
       "      <td>1</td>\n",
       "      <td>4</td>\n",
       "      <td>05/02/2010</td>\n",
       "      <td>39954.04</td>\n",
       "      <td>False</td>\n",
       "      <td>A</td>\n",
       "      <td>151315</td>\n",
       "      <td>42.31</td>\n",
       "      <td>2.572</td>\n",
       "      <td>0.0</td>\n",
       "      <td>0.0</td>\n",
       "      <td>0.0</td>\n",
       "      <td>0.0</td>\n",
       "      <td>0.0</td>\n",
       "      <td>211.096358</td>\n",
       "      <td>8.106</td>\n",
       "    </tr>\n",
       "    <tr>\n",
       "      <th>4</th>\n",
       "      <td>1</td>\n",
       "      <td>5</td>\n",
       "      <td>05/02/2010</td>\n",
       "      <td>32229.38</td>\n",
       "      <td>False</td>\n",
       "      <td>A</td>\n",
       "      <td>151315</td>\n",
       "      <td>42.31</td>\n",
       "      <td>2.572</td>\n",
       "      <td>0.0</td>\n",
       "      <td>0.0</td>\n",
       "      <td>0.0</td>\n",
       "      <td>0.0</td>\n",
       "      <td>0.0</td>\n",
       "      <td>211.096358</td>\n",
       "      <td>8.106</td>\n",
       "    </tr>\n",
       "  </tbody>\n",
       "</table>\n",
       "</div>"
      ],
      "text/plain": [
       "   Store  Dept        Date  Weekly_Sales  IsHoliday Type    Size  Temperature  \\\n",
       "0      1     1  05/02/2010      24924.50      False    A  151315        42.31   \n",
       "1      1     2  05/02/2010      50605.27      False    A  151315        42.31   \n",
       "2      1     3  05/02/2010      13740.12      False    A  151315        42.31   \n",
       "3      1     4  05/02/2010      39954.04      False    A  151315        42.31   \n",
       "4      1     5  05/02/2010      32229.38      False    A  151315        42.31   \n",
       "\n",
       "   Fuel_Price  MarkDown1  MarkDown2  MarkDown3  MarkDown4  MarkDown5  \\\n",
       "0       2.572        0.0        0.0        0.0        0.0        0.0   \n",
       "1       2.572        0.0        0.0        0.0        0.0        0.0   \n",
       "2       2.572        0.0        0.0        0.0        0.0        0.0   \n",
       "3       2.572        0.0        0.0        0.0        0.0        0.0   \n",
       "4       2.572        0.0        0.0        0.0        0.0        0.0   \n",
       "\n",
       "          CPI  Unemployment  \n",
       "0  211.096358         8.106  \n",
       "1  211.096358         8.106  \n",
       "2  211.096358         8.106  \n",
       "3  211.096358         8.106  \n",
       "4  211.096358         8.106  "
      ]
     },
     "execution_count": 29,
     "metadata": {},
     "output_type": "execute_result"
    }
   ],
   "source": [
    "data.head()"
   ]
  },
  {
   "cell_type": "code",
   "execution_count": 30,
   "metadata": {},
   "outputs": [
    {
     "name": "stdout",
     "output_type": "stream",
     "text": [
      "<class 'pandas.core.frame.DataFrame'>\n",
      "Int64Index: 421570 entries, 0 to 421569\n",
      "Data columns (total 16 columns):\n",
      "Store           421570 non-null int64\n",
      "Dept            421570 non-null int64\n",
      "Date            421570 non-null object\n",
      "Weekly_Sales    421570 non-null float64\n",
      "IsHoliday       421570 non-null bool\n",
      "Type            421570 non-null object\n",
      "Size            421570 non-null int64\n",
      "Temperature     421570 non-null float64\n",
      "Fuel_Price      421570 non-null float64\n",
      "MarkDown1       421570 non-null float64\n",
      "MarkDown2       421570 non-null float64\n",
      "MarkDown3       421570 non-null float64\n",
      "MarkDown4       421570 non-null float64\n",
      "MarkDown5       421570 non-null float64\n",
      "CPI             421570 non-null float64\n",
      "Unemployment    421570 non-null float64\n",
      "dtypes: bool(1), float64(10), int64(3), object(2)\n",
      "memory usage: 51.9+ MB\n"
     ]
    }
   ],
   "source": [
    "data.info()"
   ]
  },
  {
   "cell_type": "code",
   "execution_count": 31,
   "metadata": {},
   "outputs": [],
   "source": [
    "#Data is clean. Exporting data to a csv for future usage\n",
    "#data.to_csv('./Data/combined data.csv')"
   ]
  },
  {
   "cell_type": "code",
   "execution_count": 32,
   "metadata": {},
   "outputs": [],
   "source": [
    "#Converting date to datetime object\n",
    "#data.Date = pd.to_datetime(data.Date, dayfirst=True)"
   ]
  },
  {
   "cell_type": "code",
   "execution_count": 33,
   "metadata": {},
   "outputs": [
    {
     "data": {
      "text/plain": [
       "(421570, 16)"
      ]
     },
     "execution_count": 33,
     "metadata": {},
     "output_type": "execute_result"
    }
   ],
   "source": [
    "data.shape"
   ]
  },
  {
   "cell_type": "code",
   "execution_count": 34,
   "metadata": {},
   "outputs": [
    {
     "data": {
      "text/html": [
       "<div>\n",
       "<style scoped>\n",
       "    .dataframe tbody tr th:only-of-type {\n",
       "        vertical-align: middle;\n",
       "    }\n",
       "\n",
       "    .dataframe tbody tr th {\n",
       "        vertical-align: top;\n",
       "    }\n",
       "\n",
       "    .dataframe thead th {\n",
       "        text-align: right;\n",
       "    }\n",
       "</style>\n",
       "<table border=\"1\" class=\"dataframe\">\n",
       "  <thead>\n",
       "    <tr style=\"text-align: right;\">\n",
       "      <th></th>\n",
       "      <th>Store</th>\n",
       "      <th>Dept</th>\n",
       "      <th>Weekly_Sales</th>\n",
       "      <th>Size</th>\n",
       "      <th>Temperature</th>\n",
       "      <th>Fuel_Price</th>\n",
       "      <th>MarkDown1</th>\n",
       "      <th>MarkDown2</th>\n",
       "      <th>MarkDown3</th>\n",
       "      <th>MarkDown4</th>\n",
       "      <th>MarkDown5</th>\n",
       "      <th>CPI</th>\n",
       "      <th>Unemployment</th>\n",
       "    </tr>\n",
       "  </thead>\n",
       "  <tbody>\n",
       "    <tr>\n",
       "      <th>count</th>\n",
       "      <td>421570.000000</td>\n",
       "      <td>421570.000000</td>\n",
       "      <td>421570.000000</td>\n",
       "      <td>421570.000000</td>\n",
       "      <td>421570.000000</td>\n",
       "      <td>421570.000000</td>\n",
       "      <td>421570.000000</td>\n",
       "      <td>421570.000000</td>\n",
       "      <td>421570.000000</td>\n",
       "      <td>421570.000000</td>\n",
       "      <td>421570.000000</td>\n",
       "      <td>421570.000000</td>\n",
       "      <td>421570.000000</td>\n",
       "    </tr>\n",
       "    <tr>\n",
       "      <th>mean</th>\n",
       "      <td>22.200546</td>\n",
       "      <td>44.260317</td>\n",
       "      <td>15981.258123</td>\n",
       "      <td>136727.915739</td>\n",
       "      <td>60.090059</td>\n",
       "      <td>3.361027</td>\n",
       "      <td>2590.074819</td>\n",
       "      <td>879.974298</td>\n",
       "      <td>468.087665</td>\n",
       "      <td>1083.132268</td>\n",
       "      <td>1662.772385</td>\n",
       "      <td>171.201947</td>\n",
       "      <td>7.960289</td>\n",
       "    </tr>\n",
       "    <tr>\n",
       "      <th>std</th>\n",
       "      <td>12.785297</td>\n",
       "      <td>30.492054</td>\n",
       "      <td>22711.183519</td>\n",
       "      <td>60980.583328</td>\n",
       "      <td>18.447931</td>\n",
       "      <td>0.458515</td>\n",
       "      <td>6052.385934</td>\n",
       "      <td>5084.538801</td>\n",
       "      <td>5528.873453</td>\n",
       "      <td>3894.529945</td>\n",
       "      <td>4207.629321</td>\n",
       "      <td>39.159276</td>\n",
       "      <td>1.863296</td>\n",
       "    </tr>\n",
       "    <tr>\n",
       "      <th>min</th>\n",
       "      <td>1.000000</td>\n",
       "      <td>1.000000</td>\n",
       "      <td>-4988.940000</td>\n",
       "      <td>34875.000000</td>\n",
       "      <td>-2.060000</td>\n",
       "      <td>2.472000</td>\n",
       "      <td>0.000000</td>\n",
       "      <td>-265.760000</td>\n",
       "      <td>-29.100000</td>\n",
       "      <td>0.000000</td>\n",
       "      <td>0.000000</td>\n",
       "      <td>126.064000</td>\n",
       "      <td>3.879000</td>\n",
       "    </tr>\n",
       "    <tr>\n",
       "      <th>25%</th>\n",
       "      <td>11.000000</td>\n",
       "      <td>18.000000</td>\n",
       "      <td>2079.650000</td>\n",
       "      <td>93638.000000</td>\n",
       "      <td>46.680000</td>\n",
       "      <td>2.933000</td>\n",
       "      <td>0.000000</td>\n",
       "      <td>0.000000</td>\n",
       "      <td>0.000000</td>\n",
       "      <td>0.000000</td>\n",
       "      <td>0.000000</td>\n",
       "      <td>132.022667</td>\n",
       "      <td>6.891000</td>\n",
       "    </tr>\n",
       "    <tr>\n",
       "      <th>50%</th>\n",
       "      <td>22.000000</td>\n",
       "      <td>37.000000</td>\n",
       "      <td>7612.030000</td>\n",
       "      <td>140167.000000</td>\n",
       "      <td>62.090000</td>\n",
       "      <td>3.452000</td>\n",
       "      <td>0.000000</td>\n",
       "      <td>0.000000</td>\n",
       "      <td>0.000000</td>\n",
       "      <td>0.000000</td>\n",
       "      <td>0.000000</td>\n",
       "      <td>182.318780</td>\n",
       "      <td>7.866000</td>\n",
       "    </tr>\n",
       "    <tr>\n",
       "      <th>75%</th>\n",
       "      <td>33.000000</td>\n",
       "      <td>74.000000</td>\n",
       "      <td>20205.852500</td>\n",
       "      <td>202505.000000</td>\n",
       "      <td>74.280000</td>\n",
       "      <td>3.738000</td>\n",
       "      <td>2809.050000</td>\n",
       "      <td>2.200000</td>\n",
       "      <td>4.540000</td>\n",
       "      <td>425.290000</td>\n",
       "      <td>2168.040000</td>\n",
       "      <td>212.416993</td>\n",
       "      <td>8.572000</td>\n",
       "    </tr>\n",
       "    <tr>\n",
       "      <th>max</th>\n",
       "      <td>45.000000</td>\n",
       "      <td>99.000000</td>\n",
       "      <td>693099.360000</td>\n",
       "      <td>219622.000000</td>\n",
       "      <td>100.140000</td>\n",
       "      <td>4.468000</td>\n",
       "      <td>88646.760000</td>\n",
       "      <td>104519.540000</td>\n",
       "      <td>141630.610000</td>\n",
       "      <td>67474.850000</td>\n",
       "      <td>108519.280000</td>\n",
       "      <td>227.232807</td>\n",
       "      <td>14.313000</td>\n",
       "    </tr>\n",
       "  </tbody>\n",
       "</table>\n",
       "</div>"
      ],
      "text/plain": [
       "               Store           Dept   Weekly_Sales           Size  \\\n",
       "count  421570.000000  421570.000000  421570.000000  421570.000000   \n",
       "mean       22.200546      44.260317   15981.258123  136727.915739   \n",
       "std        12.785297      30.492054   22711.183519   60980.583328   \n",
       "min         1.000000       1.000000   -4988.940000   34875.000000   \n",
       "25%        11.000000      18.000000    2079.650000   93638.000000   \n",
       "50%        22.000000      37.000000    7612.030000  140167.000000   \n",
       "75%        33.000000      74.000000   20205.852500  202505.000000   \n",
       "max        45.000000      99.000000  693099.360000  219622.000000   \n",
       "\n",
       "         Temperature     Fuel_Price      MarkDown1      MarkDown2  \\\n",
       "count  421570.000000  421570.000000  421570.000000  421570.000000   \n",
       "mean       60.090059       3.361027    2590.074819     879.974298   \n",
       "std        18.447931       0.458515    6052.385934    5084.538801   \n",
       "min        -2.060000       2.472000       0.000000    -265.760000   \n",
       "25%        46.680000       2.933000       0.000000       0.000000   \n",
       "50%        62.090000       3.452000       0.000000       0.000000   \n",
       "75%        74.280000       3.738000    2809.050000       2.200000   \n",
       "max       100.140000       4.468000   88646.760000  104519.540000   \n",
       "\n",
       "           MarkDown3      MarkDown4      MarkDown5            CPI  \\\n",
       "count  421570.000000  421570.000000  421570.000000  421570.000000   \n",
       "mean      468.087665    1083.132268    1662.772385     171.201947   \n",
       "std      5528.873453    3894.529945    4207.629321      39.159276   \n",
       "min       -29.100000       0.000000       0.000000     126.064000   \n",
       "25%         0.000000       0.000000       0.000000     132.022667   \n",
       "50%         0.000000       0.000000       0.000000     182.318780   \n",
       "75%         4.540000     425.290000    2168.040000     212.416993   \n",
       "max    141630.610000   67474.850000  108519.280000     227.232807   \n",
       "\n",
       "        Unemployment  \n",
       "count  421570.000000  \n",
       "mean        7.960289  \n",
       "std         1.863296  \n",
       "min         3.879000  \n",
       "25%         6.891000  \n",
       "50%         7.866000  \n",
       "75%         8.572000  \n",
       "max        14.313000  "
      ]
     },
     "execution_count": 34,
     "metadata": {},
     "output_type": "execute_result"
    }
   ],
   "source": [
    "data.describe()"
   ]
  },
  {
   "cell_type": "code",
   "execution_count": 35,
   "metadata": {},
   "outputs": [],
   "source": [
    "#As store and Dept are nominal categorical data, it make sense to change the datatype to sting instead of integer"
   ]
  },
  {
   "cell_type": "code",
   "execution_count": 36,
   "metadata": {},
   "outputs": [],
   "source": [
    "data.Store = data.Store.astype('str')\n",
    "data.Dept = data.Dept.astype('str')"
   ]
  },
  {
   "cell_type": "code",
   "execution_count": 37,
   "metadata": {
    "scrolled": true
   },
   "outputs": [
    {
     "name": "stdout",
     "output_type": "stream",
     "text": [
      "<class 'pandas.core.frame.DataFrame'>\n",
      "Int64Index: 421570 entries, 0 to 421569\n",
      "Data columns (total 16 columns):\n",
      "Store           421570 non-null object\n",
      "Dept            421570 non-null object\n",
      "Date            421570 non-null object\n",
      "Weekly_Sales    421570 non-null float64\n",
      "IsHoliday       421570 non-null bool\n",
      "Type            421570 non-null object\n",
      "Size            421570 non-null int64\n",
      "Temperature     421570 non-null float64\n",
      "Fuel_Price      421570 non-null float64\n",
      "MarkDown1       421570 non-null float64\n",
      "MarkDown2       421570 non-null float64\n",
      "MarkDown3       421570 non-null float64\n",
      "MarkDown4       421570 non-null float64\n",
      "MarkDown5       421570 non-null float64\n",
      "CPI             421570 non-null float64\n",
      "Unemployment    421570 non-null float64\n",
      "dtypes: bool(1), float64(10), int64(1), object(4)\n",
      "memory usage: 51.9+ MB\n"
     ]
    }
   ],
   "source": [
    "data.info()"
   ]
  },
  {
   "cell_type": "code",
   "execution_count": 38,
   "metadata": {},
   "outputs": [],
   "source": [
    "data = pd.get_dummies(data,prefix = 'type',drop_first=True,columns=['Type'])"
   ]
  },
  {
   "cell_type": "code",
   "execution_count": 39,
   "metadata": {},
   "outputs": [
    {
     "data": {
      "text/html": [
       "<div>\n",
       "<style scoped>\n",
       "    .dataframe tbody tr th:only-of-type {\n",
       "        vertical-align: middle;\n",
       "    }\n",
       "\n",
       "    .dataframe tbody tr th {\n",
       "        vertical-align: top;\n",
       "    }\n",
       "\n",
       "    .dataframe thead th {\n",
       "        text-align: right;\n",
       "    }\n",
       "</style>\n",
       "<table border=\"1\" class=\"dataframe\">\n",
       "  <thead>\n",
       "    <tr style=\"text-align: right;\">\n",
       "      <th></th>\n",
       "      <th>Store</th>\n",
       "      <th>Dept</th>\n",
       "      <th>Date</th>\n",
       "      <th>Weekly_Sales</th>\n",
       "      <th>IsHoliday</th>\n",
       "      <th>Size</th>\n",
       "      <th>Temperature</th>\n",
       "      <th>Fuel_Price</th>\n",
       "      <th>MarkDown1</th>\n",
       "      <th>MarkDown2</th>\n",
       "      <th>MarkDown3</th>\n",
       "      <th>MarkDown4</th>\n",
       "      <th>MarkDown5</th>\n",
       "      <th>CPI</th>\n",
       "      <th>Unemployment</th>\n",
       "      <th>type_B</th>\n",
       "      <th>type_C</th>\n",
       "    </tr>\n",
       "  </thead>\n",
       "  <tbody>\n",
       "    <tr>\n",
       "      <th>0</th>\n",
       "      <td>1</td>\n",
       "      <td>1</td>\n",
       "      <td>05/02/2010</td>\n",
       "      <td>24924.50</td>\n",
       "      <td>False</td>\n",
       "      <td>151315</td>\n",
       "      <td>42.31</td>\n",
       "      <td>2.572</td>\n",
       "      <td>0.0</td>\n",
       "      <td>0.0</td>\n",
       "      <td>0.0</td>\n",
       "      <td>0.0</td>\n",
       "      <td>0.0</td>\n",
       "      <td>211.096358</td>\n",
       "      <td>8.106</td>\n",
       "      <td>0</td>\n",
       "      <td>0</td>\n",
       "    </tr>\n",
       "    <tr>\n",
       "      <th>1</th>\n",
       "      <td>1</td>\n",
       "      <td>2</td>\n",
       "      <td>05/02/2010</td>\n",
       "      <td>50605.27</td>\n",
       "      <td>False</td>\n",
       "      <td>151315</td>\n",
       "      <td>42.31</td>\n",
       "      <td>2.572</td>\n",
       "      <td>0.0</td>\n",
       "      <td>0.0</td>\n",
       "      <td>0.0</td>\n",
       "      <td>0.0</td>\n",
       "      <td>0.0</td>\n",
       "      <td>211.096358</td>\n",
       "      <td>8.106</td>\n",
       "      <td>0</td>\n",
       "      <td>0</td>\n",
       "    </tr>\n",
       "    <tr>\n",
       "      <th>2</th>\n",
       "      <td>1</td>\n",
       "      <td>3</td>\n",
       "      <td>05/02/2010</td>\n",
       "      <td>13740.12</td>\n",
       "      <td>False</td>\n",
       "      <td>151315</td>\n",
       "      <td>42.31</td>\n",
       "      <td>2.572</td>\n",
       "      <td>0.0</td>\n",
       "      <td>0.0</td>\n",
       "      <td>0.0</td>\n",
       "      <td>0.0</td>\n",
       "      <td>0.0</td>\n",
       "      <td>211.096358</td>\n",
       "      <td>8.106</td>\n",
       "      <td>0</td>\n",
       "      <td>0</td>\n",
       "    </tr>\n",
       "    <tr>\n",
       "      <th>3</th>\n",
       "      <td>1</td>\n",
       "      <td>4</td>\n",
       "      <td>05/02/2010</td>\n",
       "      <td>39954.04</td>\n",
       "      <td>False</td>\n",
       "      <td>151315</td>\n",
       "      <td>42.31</td>\n",
       "      <td>2.572</td>\n",
       "      <td>0.0</td>\n",
       "      <td>0.0</td>\n",
       "      <td>0.0</td>\n",
       "      <td>0.0</td>\n",
       "      <td>0.0</td>\n",
       "      <td>211.096358</td>\n",
       "      <td>8.106</td>\n",
       "      <td>0</td>\n",
       "      <td>0</td>\n",
       "    </tr>\n",
       "    <tr>\n",
       "      <th>4</th>\n",
       "      <td>1</td>\n",
       "      <td>5</td>\n",
       "      <td>05/02/2010</td>\n",
       "      <td>32229.38</td>\n",
       "      <td>False</td>\n",
       "      <td>151315</td>\n",
       "      <td>42.31</td>\n",
       "      <td>2.572</td>\n",
       "      <td>0.0</td>\n",
       "      <td>0.0</td>\n",
       "      <td>0.0</td>\n",
       "      <td>0.0</td>\n",
       "      <td>0.0</td>\n",
       "      <td>211.096358</td>\n",
       "      <td>8.106</td>\n",
       "      <td>0</td>\n",
       "      <td>0</td>\n",
       "    </tr>\n",
       "  </tbody>\n",
       "</table>\n",
       "</div>"
      ],
      "text/plain": [
       "  Store Dept        Date  Weekly_Sales  IsHoliday    Size  Temperature  \\\n",
       "0     1    1  05/02/2010      24924.50      False  151315        42.31   \n",
       "1     1    2  05/02/2010      50605.27      False  151315        42.31   \n",
       "2     1    3  05/02/2010      13740.12      False  151315        42.31   \n",
       "3     1    4  05/02/2010      39954.04      False  151315        42.31   \n",
       "4     1    5  05/02/2010      32229.38      False  151315        42.31   \n",
       "\n",
       "   Fuel_Price  MarkDown1  MarkDown2  MarkDown3  MarkDown4  MarkDown5  \\\n",
       "0       2.572        0.0        0.0        0.0        0.0        0.0   \n",
       "1       2.572        0.0        0.0        0.0        0.0        0.0   \n",
       "2       2.572        0.0        0.0        0.0        0.0        0.0   \n",
       "3       2.572        0.0        0.0        0.0        0.0        0.0   \n",
       "4       2.572        0.0        0.0        0.0        0.0        0.0   \n",
       "\n",
       "          CPI  Unemployment  type_B  type_C  \n",
       "0  211.096358         8.106       0       0  \n",
       "1  211.096358         8.106       0       0  \n",
       "2  211.096358         8.106       0       0  \n",
       "3  211.096358         8.106       0       0  \n",
       "4  211.096358         8.106       0       0  "
      ]
     },
     "execution_count": 39,
     "metadata": {},
     "output_type": "execute_result"
    }
   ],
   "source": [
    "data.head()"
   ]
  },
  {
   "cell_type": "markdown",
   "metadata": {},
   "source": [
    "# Linear Regression"
   ]
  },
  {
   "cell_type": "code",
   "execution_count": 40,
   "metadata": {},
   "outputs": [
    {
     "data": {
      "text/plain": [
       "<matplotlib.axes._subplots.AxesSubplot at 0x152460e08d0>"
      ]
     },
     "execution_count": 40,
     "metadata": {},
     "output_type": "execute_result"
    },
    {
     "data": {
      "image/png": "[encoded data removed]",
      "text/plain": [
       "<matplotlib.figure.Figure at 0x1524cb90f98>"
      ]
     },
     "metadata": {},
     "output_type": "display_data"
    }
   ],
   "source": [
    "sns.heatmap(data.corr(), cmap='Set1')\n",
    "#Based on the correlation matrix, the target variable have low correlation with most of the feature\n",
    "#Linear regression might not give the best model"
   ]
  },
  {
   "cell_type": "code",
   "execution_count": 41,
   "metadata": {
    "scrolled": true
   },
   "outputs": [
    {
     "data": {
      "text/plain": [
       "Weekly_Sales    1.000000\n",
       "IsHoliday       0.012774\n",
       "Size            0.243828\n",
       "Temperature    -0.002312\n",
       "Fuel_Price     -0.000120\n",
       "MarkDown1       0.047172\n",
       "MarkDown2       0.020716\n",
       "MarkDown3       0.038562\n",
       "MarkDown4       0.037467\n",
       "MarkDown5       0.050465\n",
       "CPI            -0.020921\n",
       "Unemployment   -0.025864\n",
       "type_B         -0.131219\n",
       "type_C         -0.095388\n",
       "Name: Weekly_Sales, dtype: float64"
      ]
     },
     "execution_count": 41,
     "metadata": {},
     "output_type": "execute_result"
    }
   ],
   "source": [
    "data.corr()['Weekly_Sales']"
   ]
  },
  {
   "cell_type": "code",
   "execution_count": 42,
   "metadata": {},
   "outputs": [],
   "source": [
    "#Trying to fit linear regression model with the Size,type and markdown variable\n",
    "\n",
    "feature_col = ['Size','MarkDown1','MarkDown2','MarkDown3','MarkDown4','MarkDown5','type_B','type_C']"
   ]
  },
  {
   "cell_type": "code",
   "execution_count": 43,
   "metadata": {},
   "outputs": [],
   "source": [
    "X = data[feature_col]\n",
    "y = data.Weekly_Sales"
   ]
  },
  {
   "cell_type": "code",
   "execution_count": 44,
   "metadata": {},
   "outputs": [],
   "source": [
    "from sklearn.linear_model import LinearRegression\n",
    "from sklearn import metrics\n",
    "from sklearn.model_selection import train_test_split"
   ]
  },
  {
   "cell_type": "code",
   "execution_count": 45,
   "metadata": {},
   "outputs": [],
   "source": [
    "X_train, X_test, y_train, y_test = train_test_split(X, y, random_state=123)"
   ]
  },
  {
   "cell_type": "code",
   "execution_count": 46,
   "metadata": {},
   "outputs": [],
   "source": [
    "lr = LinearRegression(normalize=True)"
   ]
  },
  {
   "cell_type": "code",
   "execution_count": 47,
   "metadata": {},
   "outputs": [
    {
     "data": {
      "text/plain": [
       "LinearRegression(copy_X=True, fit_intercept=True, n_jobs=1, normalize=True)"
      ]
     },
     "execution_count": 47,
     "metadata": {},
     "output_type": "execute_result"
    }
   ],
   "source": [
    "lr.fit(X_train,y_train)"
   ]
  },
  {
   "cell_type": "code",
   "execution_count": 48,
   "metadata": {},
   "outputs": [
    {
     "data": {
      "text/plain": [
       "[('Size', 0.10105025711712914),\n",
       " ('MarkDown1', 0.0007718661164848788),\n",
       " ('MarkDown2', 0.009287057866130117),\n",
       " ('MarkDown3', 0.11701538366487362),\n",
       " ('MarkDown4', 0.023201159733726984),\n",
       " ('MarkDown5', 0.06521976634012089),\n",
       " ('type_B', 301.1644166555162),\n",
       " ('type_C', 3868.229863204447)]"
      ]
     },
     "execution_count": 48,
     "metadata": {},
     "output_type": "execute_result"
    }
   ],
   "source": [
    "list(zip(feature_col, lr.coef_))"
   ]
  },
  {
   "cell_type": "code",
   "execution_count": 49,
   "metadata": {},
   "outputs": [
    {
     "data": {
      "text/plain": [
       "0.05988369015901629"
      ]
     },
     "execution_count": 49,
     "metadata": {},
     "output_type": "execute_result"
    }
   ],
   "source": [
    "lr.score(X_test,y_test)"
   ]
  },
  {
   "cell_type": "code",
   "execution_count": 50,
   "metadata": {},
   "outputs": [],
   "source": [
    "pred = lr.predict(X_test)"
   ]
  },
  {
   "cell_type": "code",
   "execution_count": 51,
   "metadata": {},
   "outputs": [
    {
     "name": "stdout",
     "output_type": "stream",
     "text": [
      "22278.73472639829\n"
     ]
    }
   ],
   "source": [
    "print(np.sqrt(metrics.mean_squared_error(y_test,pred)))"
   ]
  },
  {
   "cell_type": "markdown",
   "metadata": {},
   "source": [
    "The low R^2 and high RMSE indicate that this model is a bad fit"
   ]
  },
  {
   "cell_type": "markdown",
   "metadata": {},
   "source": [
    "# Linear Regression Alternative\n",
    "\n",
    "Trying to fit a model where the Markdown features are altered into ordered categorical value where negative value is marked as -1, null value as 0, positive value as +1"
   ]
  },
  {
   "cell_type": "code",
   "execution_count": 52,
   "metadata": {},
   "outputs": [
    {
     "name": "stderr",
     "output_type": "stream",
     "text": [
      "C:\\Users\\Jason\\Anaconda3\\lib\\site-packages\\pandas\\core\\indexing.py:537: SettingWithCopyWarning: \n",
      "A value is trying to be set on a copy of a slice from a DataFrame.\n",
      "Try using .loc[row_indexer,col_indexer] = value instead\n",
      "\n",
      "See the caveats in the documentation: http://pandas.pydata.org/pandas-docs/stable/indexing.html#indexing-view-versus-copy\n",
      "  self.obj[item] = s\n"
     ]
    }
   ],
   "source": [
    "X.loc[X['MarkDown1'] >0, 'MarkDown1'] = 1\n",
    "X.loc[X['MarkDown1'] <0, 'MarkDown1'] = -1\n",
    "X.loc[X['MarkDown2'] >0, 'MarkDown2'] = 1\n",
    "X.loc[X['MarkDown2'] <0, 'MarkDown2'] = -1\n",
    "X.loc[X['MarkDown3'] >0, 'MarkDown3'] = 1\n",
    "X.loc[X['MarkDown3'] <0, 'MarkDown3'] = -1\n",
    "X.loc[X['MarkDown4'] >0, 'MarkDown4'] = 1\n",
    "X.loc[X['MarkDown4'] <0, 'MarkDown4'] = -1\n",
    "X.loc[X['MarkDown5'] >0, 'MarkDown5'] = 1\n",
    "X.loc[X['MarkDown5'] <0, 'MarkDown5'] = -1"
   ]
  },
  {
   "cell_type": "code",
   "execution_count": 53,
   "metadata": {},
   "outputs": [
    {
     "data": {
      "text/html": [
       "<div>\n",
       "<style scoped>\n",
       "    .dataframe tbody tr th:only-of-type {\n",
       "        vertical-align: middle;\n",
       "    }\n",
       "\n",
       "    .dataframe tbody tr th {\n",
       "        vertical-align: top;\n",
       "    }\n",
       "\n",
       "    .dataframe thead th {\n",
       "        text-align: right;\n",
       "    }\n",
       "</style>\n",
       "<table border=\"1\" class=\"dataframe\">\n",
       "  <thead>\n",
       "    <tr style=\"text-align: right;\">\n",
       "      <th></th>\n",
       "      <th>Size</th>\n",
       "      <th>MarkDown1</th>\n",
       "      <th>MarkDown2</th>\n",
       "      <th>MarkDown3</th>\n",
       "      <th>MarkDown4</th>\n",
       "      <th>MarkDown5</th>\n",
       "      <th>type_B</th>\n",
       "      <th>type_C</th>\n",
       "    </tr>\n",
       "  </thead>\n",
       "  <tbody>\n",
       "    <tr>\n",
       "      <th>6587</th>\n",
       "      <td>151315</td>\n",
       "      <td>1.0</td>\n",
       "      <td>1.0</td>\n",
       "      <td>1.0</td>\n",
       "      <td>1.0</td>\n",
       "      <td>1.0</td>\n",
       "      <td>0</td>\n",
       "      <td>0</td>\n",
       "    </tr>\n",
       "    <tr>\n",
       "      <th>6588</th>\n",
       "      <td>151315</td>\n",
       "      <td>1.0</td>\n",
       "      <td>1.0</td>\n",
       "      <td>1.0</td>\n",
       "      <td>1.0</td>\n",
       "      <td>1.0</td>\n",
       "      <td>0</td>\n",
       "      <td>0</td>\n",
       "    </tr>\n",
       "    <tr>\n",
       "      <th>6589</th>\n",
       "      <td>151315</td>\n",
       "      <td>1.0</td>\n",
       "      <td>1.0</td>\n",
       "      <td>1.0</td>\n",
       "      <td>1.0</td>\n",
       "      <td>1.0</td>\n",
       "      <td>0</td>\n",
       "      <td>0</td>\n",
       "    </tr>\n",
       "    <tr>\n",
       "      <th>6590</th>\n",
       "      <td>151315</td>\n",
       "      <td>1.0</td>\n",
       "      <td>1.0</td>\n",
       "      <td>1.0</td>\n",
       "      <td>1.0</td>\n",
       "      <td>1.0</td>\n",
       "      <td>0</td>\n",
       "      <td>0</td>\n",
       "    </tr>\n",
       "    <tr>\n",
       "      <th>6591</th>\n",
       "      <td>151315</td>\n",
       "      <td>1.0</td>\n",
       "      <td>1.0</td>\n",
       "      <td>1.0</td>\n",
       "      <td>1.0</td>\n",
       "      <td>1.0</td>\n",
       "      <td>0</td>\n",
       "      <td>0</td>\n",
       "    </tr>\n",
       "  </tbody>\n",
       "</table>\n",
       "</div>"
      ],
      "text/plain": [
       "        Size  MarkDown1  MarkDown2  MarkDown3  MarkDown4  MarkDown5  type_B  \\\n",
       "6587  151315        1.0        1.0        1.0        1.0        1.0       0   \n",
       "6588  151315        1.0        1.0        1.0        1.0        1.0       0   \n",
       "6589  151315        1.0        1.0        1.0        1.0        1.0       0   \n",
       "6590  151315        1.0        1.0        1.0        1.0        1.0       0   \n",
       "6591  151315        1.0        1.0        1.0        1.0        1.0       0   \n",
       "\n",
       "      type_C  \n",
       "6587       0  \n",
       "6588       0  \n",
       "6589       0  \n",
       "6590       0  \n",
       "6591       0  "
      ]
     },
     "execution_count": 53,
     "metadata": {},
     "output_type": "execute_result"
    }
   ],
   "source": [
    "X[X.MarkDown1 >0].head()"
   ]
  },
  {
   "cell_type": "code",
   "execution_count": 54,
   "metadata": {},
   "outputs": [
    {
     "data": {
      "text/plain": [
       "0.05864760189467899"
      ]
     },
     "execution_count": 54,
     "metadata": {},
     "output_type": "execute_result"
    }
   ],
   "source": [
    "X_train, X_test, y_train, y_test = train_test_split(X, y, random_state=123)\n",
    "lr = LinearRegression(normalize=True)\n",
    "lr.fit(X_train,y_train)\n",
    "lr.score(X_test,y_test)"
   ]
  },
  {
   "cell_type": "code",
   "execution_count": 55,
   "metadata": {},
   "outputs": [
    {
     "name": "stdout",
     "output_type": "stream",
     "text": [
      "22293.37623199038\n"
     ]
    }
   ],
   "source": [
    "pred = lr.predict(X_test)\n",
    "print(np.sqrt(metrics.mean_squared_error(y_test,pred)))"
   ]
  },
  {
   "cell_type": "markdown",
   "metadata": {},
   "source": [
    "The R^2 score is lower than the previous model, indicating that the magnitude of the Markdown columns have some impact on the actual sales volume. It is then worth revisiting our handling of missing value data for the MarkDown columms if we have further information.\n",
    "\n",
    "As the Markdown features are anonymised, we are unable to accurately try to fill in the missing value with reasonable value.\n"
   ]
  },
  {
   "cell_type": "markdown",
   "metadata": {},
   "source": [
    "# Liner Regression with store and deparment dummy\n",
    "\n",
    "\n",
    "Buiding regression model for each individual store and department to see if the model will be better fit\n"
   ]
  },
  {
   "cell_type": "code",
   "execution_count": 56,
   "metadata": {},
   "outputs": [
    {
     "data": {
      "text/plain": [
       "Weekly_Sales    1.000000\n",
       "IsHoliday       0.013197\n",
       "Size                 NaN\n",
       "Temperature    -0.012877\n",
       "Fuel_Price      0.011380\n",
       "MarkDown1       0.018875\n",
       "MarkDown2      -0.000604\n",
       "MarkDown3       0.019283\n",
       "MarkDown4       0.013136\n",
       "MarkDown5       0.015257\n",
       "CPI             0.017872\n",
       "Unemployment   -0.008676\n",
       "type_B               NaN\n",
       "type_C               NaN\n",
       "Name: Weekly_Sales, dtype: float64"
      ]
     },
     "execution_count": 56,
     "metadata": {},
     "output_type": "execute_result"
    }
   ],
   "source": [
    "#Store level datta have worse correlation than the aggregrated data\n",
    "data_store_level = data[data.Store == '1']\n",
    "data_store_level.corr()[\"Weekly_Sales\"]"
   ]
  },
  {
   "cell_type": "code",
   "execution_count": 57,
   "metadata": {},
   "outputs": [
    {
     "data": {
      "text/plain": [
       "Weekly_Sales    1.000000\n",
       "IsHoliday       0.008922\n",
       "Size            0.476222\n",
       "Temperature    -0.273480\n",
       "Fuel_Price      0.004167\n",
       "MarkDown1       0.092254\n",
       "MarkDown2       0.062022\n",
       "MarkDown3       0.021489\n",
       "MarkDown4       0.078824\n",
       "MarkDown5       0.098896\n",
       "CPI            -0.135564\n",
       "Unemployment   -0.122064\n",
       "type_B         -0.063084\n",
       "type_C         -0.266534\n",
       "Name: Weekly_Sales, dtype: float64"
      ]
     },
     "execution_count": 57,
     "metadata": {},
     "output_type": "execute_result"
    }
   ],
   "source": [
    "#Stronger correlation when compared at department level ; Can consider fitting model with One hot encoding of Dept\n",
    "data_dept_level = data[data.Dept == '1']\n",
    "data_dept_level.corr()[\"Weekly_Sales\"]"
   ]
  },
  {
   "cell_type": "code",
   "execution_count": 58,
   "metadata": {},
   "outputs": [],
   "source": [
    "dept_data = pd.get_dummies(data,prefix ='Dept', columns=['Dept'],drop_first= True)"
   ]
  },
  {
   "cell_type": "code",
   "execution_count": 59,
   "metadata": {},
   "outputs": [],
   "source": [
    "X = dept_data.drop(['Weekly_Sales','Date','Store'], axis = 1)\n",
    "y = dept_data.Weekly_Sales"
   ]
  },
  {
   "cell_type": "code",
   "execution_count": 60,
   "metadata": {},
   "outputs": [
    {
     "data": {
      "text/plain": [
       "0.6163301721836302"
      ]
     },
     "execution_count": 60,
     "metadata": {},
     "output_type": "execute_result"
    }
   ],
   "source": [
    "X_train, X_test, y_train, y_test = train_test_split(X, y, random_state=123)\n",
    "lr = LinearRegression(normalize=True)\n",
    "lr.fit(X_train,y_train)\n",
    "lr.score(X_test,y_test)"
   ]
  },
  {
   "cell_type": "code",
   "execution_count": 61,
   "metadata": {},
   "outputs": [
    {
     "name": "stdout",
     "output_type": "stream",
     "text": [
      "14232.413479034703\n"
     ]
    }
   ],
   "source": [
    "pred = lr.predict(X_test)\n",
    "print(np.sqrt(metrics.mean_squared_error(y_test,pred)))"
   ]
  },
  {
   "cell_type": "code",
   "execution_count": 62,
   "metadata": {
    "scrolled": true
   },
   "outputs": [
    {
     "data": {
      "text/plain": [
       "[('IsHoliday', 534.8422062134321),\n",
       " ('Size', 0.12346192197652729),\n",
       " ('Temperature', 21.52587863032405),\n",
       " ('Fuel_Price', -810.286920949268),\n",
       " ('MarkDown1', 0.018166496233316877),\n",
       " ('MarkDown2', 0.011549975584411615),\n",
       " ('MarkDown3', 0.11762254520059341),\n",
       " ('MarkDown4', 0.00853153229813559),\n",
       " ('MarkDown5', 0.07517643569979157),\n",
       " ('CPI', -20.756437616016367),\n",
       " ('Unemployment', -395.4965449160186),\n",
       " ('type_B', 2081.5776943361657),\n",
       " ('type_C', 3064.681058663504),\n",
       " ('Dept_10', -998.0890027268381),\n",
       " ('Dept_11', -4683.566623635451),\n",
       " ('Dept_12', -15077.429954995014),\n",
       " ('Dept_13', 11334.59725291567),\n",
       " ('Dept_14', -4352.607151466525),\n",
       " ('Dept_16', -5004.378095826868),\n",
       " ('Dept_17', -9153.416590188579),\n",
       " ('Dept_18', -12385.76774876837),\n",
       " ('Dept_19', -19959.639136361035),\n",
       " ('Dept_2', 24558.48993189153),\n",
       " ('Dept_20', -14328.043133149517),\n",
       " ('Dept_21', -14256.88518514863),\n",
       " ('Dept_22', -10092.08881259949),\n",
       " ('Dept_23', 3514.524748282754),\n",
       " ('Dept_24', -14792.127168751766),\n",
       " ('Dept_25', -10359.341111483289),\n",
       " ('Dept_26', -12770.166594465147),\n",
       " ('Dept_27', -19168.446137483363),\n",
       " ('Dept_28', -19280.400651008873),\n",
       " ('Dept_29', -15742.262280875791),\n",
       " ('Dept_3', -7419.098397011376),\n",
       " ('Dept_30', -17314.24609724026),\n",
       " ('Dept_31', -17582.97880841889),\n",
       " ('Dept_32', -13363.492513388715),\n",
       " ('Dept_33', -14760.99957437323),\n",
       " ('Dept_34', -5715.375139136358),\n",
       " ('Dept_35', -18530.352951048186),\n",
       " ('Dept_36', -19406.422199298366),\n",
       " ('Dept_37', -22124.35388734464),\n",
       " ('Dept_38', 41881.979429532395),\n",
       " ('Dept_39', -26455.999954178908),\n",
       " ('Dept_4', 6744.44504155199),\n",
       " ('Dept_40', 25654.740291827817),\n",
       " ('Dept_41', -19230.694872229324),\n",
       " ('Dept_42', -14100.742529776497),\n",
       " ('Dept_43', -18645.9481781913),\n",
       " ('Dept_44', -16364.082203022594),\n",
       " ('Dept_45', -21556.551702729495),\n",
       " ('Dept_46', 747.0099308014696),\n",
       " ('Dept_47', -21947.94982017334),\n",
       " ('Dept_48', -21679.195231172802),\n",
       " ('Dept_49', -14235.173052351882),\n",
       " ('Dept_5', 2071.8521095620645),\n",
       " ('Dept_50', -21492.769772670068),\n",
       " ('Dept_51', -21036.454979798655),\n",
       " ('Dept_52', -17712.145197408823),\n",
       " ('Dept_54', -21662.721761296732),\n",
       " ('Dept_55', -9925.29053835386),\n",
       " ('Dept_56', -16394.722808006016),\n",
       " ('Dept_58', -18768.603810803677),\n",
       " ('Dept_59', -19138.36677071338),\n",
       " ('Dept_6', -15251.19780566074),\n",
       " ('Dept_60', -18590.49439832169),\n",
       " ('Dept_65', 23761.654382069988),\n",
       " ('Dept_67', -11758.98302451135),\n",
       " ('Dept_7', 4632.121254802745),\n",
       " ('Dept_71', -15801.38147387493),\n",
       " ('Dept_72', 30466.050645679425),\n",
       " ('Dept_74', -5469.337193466126),\n",
       " ('Dept_77', -24004.1207161323),\n",
       " ('Dept_78', -22874.614782885437),\n",
       " ('Dept_79', 2710.629427866897),\n",
       " ('Dept_8', 10734.975639243226),\n",
       " ('Dept_80', -7516.745777499916),\n",
       " ('Dept_81', -3736.88442143751),\n",
       " ('Dept_82', -3747.1435066425856),\n",
       " ('Dept_83', -16491.805341097188),\n",
       " ('Dept_85', -17730.654000513616),\n",
       " ('Dept_87', -5859.3796386238855),\n",
       " ('Dept_9', 785.8364083874732),\n",
       " ('Dept_90', 26162.696747744256),\n",
       " ('Dept_91', 14517.809415627251),\n",
       " ('Dept_92', 55226.99237087685),\n",
       " ('Dept_93', 6988.759503412005),\n",
       " ('Dept_94', 13842.54694233599),\n",
       " ('Dept_95', 50699.855301317344),\n",
       " ('Dept_96', -3882.6729132030123),\n",
       " ('Dept_97', -4880.130015143105),\n",
       " ('Dept_98', -12889.984047431428),\n",
       " ('Dept_99', -25237.269564231807)]"
      ]
     },
     "execution_count": 62,
     "metadata": {},
     "output_type": "execute_result"
    }
   ],
   "source": [
    "list(zip(X_test.columns,lr.coef_))"
   ]
  },
  {
   "cell_type": "markdown",
   "metadata": {},
   "source": [
    "The R^2 and RMSE have both been significantly improved by using dummy value for deparment. However, due to the number of features in this model, it is likely to overfit the data. Will try regularization model"
   ]
  },
  {
   "cell_type": "code",
   "execution_count": 63,
   "metadata": {},
   "outputs": [],
   "source": [
    "from sklearn.linear_model import Ridge\n",
    "from sklearn.linear_model import Lasso"
   ]
  },
  {
   "cell_type": "code",
   "execution_count": 64,
   "metadata": {},
   "outputs": [],
   "source": [
    "ridgereg = Ridge(normalize= True)\n",
    "lassoreg = Lasso(normalize = True)"
   ]
  },
  {
   "cell_type": "code",
   "execution_count": 65,
   "metadata": {},
   "outputs": [
    {
     "data": {
      "text/plain": [
       "0.45747279108139993"
      ]
     },
     "execution_count": 65,
     "metadata": {},
     "output_type": "execute_result"
    }
   ],
   "source": [
    "ridgereg.fit(X_train,y_train)\n",
    "ridgereg.score(X_test,y_test)"
   ]
  },
  {
   "cell_type": "code",
   "execution_count": 66,
   "metadata": {},
   "outputs": [
    {
     "name": "stdout",
     "output_type": "stream",
     "text": [
      "16924.291257962363\n"
     ]
    }
   ],
   "source": [
    "pred = ridgereg.predict(X_test)\n",
    "print(np.sqrt(metrics.mean_squared_error(y_test,pred)))"
   ]
  },
  {
   "cell_type": "code",
   "execution_count": 67,
   "metadata": {
    "scrolled": true
   },
   "outputs": [
    {
     "data": {
      "text/plain": [
       "[('IsHoliday', 305.1252482473854),\n",
       " ('Size', 0.0419613123057448),\n",
       " ('Temperature', 3.4648822561467134),\n",
       " ('Fuel_Price', -215.46565194625427),\n",
       " ('MarkDown1', 0.03581462224616692),\n",
       " ('MarkDown2', 0.020875988431905534),\n",
       " ('MarkDown3', 0.06651916222869032),\n",
       " ('MarkDown4', 0.034353431662899496),\n",
       " ('MarkDown5', 0.06974611590907626),\n",
       " ('CPI', -9.014528183101916),\n",
       " ('Unemployment', -125.08122531956175),\n",
       " ('type_B', -1925.1832638152327),\n",
       " ('type_C', -2605.1180427524937),\n",
       " ('Dept_10', 1303.3250112572393),\n",
       " ('Dept_11', -536.8793791709047),\n",
       " ('Dept_12', -5775.004029042475),\n",
       " ('Dept_13', 7487.288955566024),\n",
       " ('Dept_14', -405.9887306758208),\n",
       " ('Dept_16', -729.0252095277824),\n",
       " ('Dept_17', -2808.8729382555634),\n",
       " ('Dept_18', -4311.117749895405),\n",
       " ('Dept_19', -7591.447161164093),\n",
       " ('Dept_2', 14184.039869384507),\n",
       " ('Dept_20', -5297.908932552483),\n",
       " ('Dept_21', -5380.140508123903),\n",
       " ('Dept_22', -2868.7043549090968),\n",
       " ('Dept_23', 3905.1697020185975),\n",
       " ('Dept_24', -5140.671611389456),\n",
       " ('Dept_25', -3378.5015000520907),\n",
       " ('Dept_26', -4370.860766052849),\n",
       " ('Dept_27', -7422.430269532527),\n",
       " ('Dept_28', -7676.647636736024),\n",
       " ('Dept_29', -5555.947884489766),\n",
       " ('Dept_3', -1944.277859389011),\n",
       " ('Dept_30', -6332.101262728176),\n",
       " ('Dept_31', -6827.648327430544),\n",
       " ('Dept_32', -4640.3672718658145),\n",
       " ('Dept_33', -5103.834876294486),\n",
       " ('Dept_34', -526.6681383421645),\n",
       " ('Dept_35', -6945.878948656435),\n",
       " ('Dept_36', -7395.91677616396),\n",
       " ('Dept_37', -7938.903709338495),\n",
       " ('Dept_38', 22897.16965077617),\n",
       " ('Dept_39', -9772.890922812785),\n",
       " ('Dept_4', 5213.338555430408),\n",
       " ('Dept_40', 14739.612436007628),\n",
       " ('Dept_41', -7377.214683666731),\n",
       " ('Dept_42', -5281.396346854442),\n",
       " ('Dept_43', -7542.4967309293415),\n",
       " ('Dept_44', -5965.874723131247),\n",
       " ('Dept_45', -8399.482086687845),\n",
       " ('Dept_46', 2176.7199011376315),\n",
       " ('Dept_47', -8507.918350665335),\n",
       " ('Dept_48', -8206.540850379046),\n",
       " ('Dept_49', -4598.653086519964),\n",
       " ('Dept_5', 2887.1464131219977),\n",
       " ('Dept_50', -7577.599240928943),\n",
       " ('Dept_51', -8213.596823466727),\n",
       " ('Dept_52', -6976.9386974829595),\n",
       " ('Dept_54', -8433.622606848376),\n",
       " ('Dept_55', -2869.681231832312),\n",
       " ('Dept_56', -6141.793368088006),\n",
       " ('Dept_58', -6781.331924395146),\n",
       " ('Dept_59', -7656.861375090123),\n",
       " ('Dept_6', -5622.305727315197),\n",
       " ('Dept_60', -7649.482196824746),\n",
       " ('Dept_65', 13699.33638411057),\n",
       " ('Dept_67', -4133.5955091567785),\n",
       " ('Dept_7', 4140.380423609949),\n",
       " ('Dept_71', -5545.383670270465),\n",
       " ('Dept_72', 17403.264492884588),\n",
       " ('Dept_74', -964.229014491823),\n",
       " ('Dept_77', -9184.238344168258),\n",
       " ('Dept_78', -8652.875399616267),\n",
       " ('Dept_79', 3168.4805656322005),\n",
       " ('Dept_8', 7216.868002145644),\n",
       " ('Dept_80', -1874.3398107408848),\n",
       " ('Dept_81', -71.8845743476592),\n",
       " ('Dept_82', -66.90278309984947),\n",
       " ('Dept_83', -6355.611027130614),\n",
       " ('Dept_85', -6871.37645324892),\n",
       " ('Dept_87', -1128.294515139988),\n",
       " ('Dept_9', 2267.4190839246126),\n",
       " ('Dept_90', 15000.863593731825),\n",
       " ('Dept_91', 9111.086075667983),\n",
       " ('Dept_92', 29623.480151013508),\n",
       " ('Dept_93', 5460.664301225641),\n",
       " ('Dept_94', 8857.612937310703),\n",
       " ('Dept_95', 27360.97174952622),\n",
       " ('Dept_96', -260.816826739607),\n",
       " ('Dept_97', -670.3965154144427),\n",
       " ('Dept_98', -4586.199792109282),\n",
       " ('Dept_99', -9623.307209981405)]"
      ]
     },
     "execution_count": 67,
     "metadata": {},
     "output_type": "execute_result"
    }
   ],
   "source": [
    "list(zip(X_test.columns,ridgereg.coef_))"
   ]
  },
  {
   "cell_type": "code",
   "execution_count": 68,
   "metadata": {},
   "outputs": [
    {
     "data": {
      "text/plain": [
       "0.5683999874038128"
      ]
     },
     "execution_count": 68,
     "metadata": {},
     "output_type": "execute_result"
    }
   ],
   "source": [
    "lassoreg.fit(X_train,y_train)\n",
    "lassoreg.score(X_test,y_test)"
   ]
  },
  {
   "cell_type": "code",
   "execution_count": 69,
   "metadata": {},
   "outputs": [
    {
     "name": "stdout",
     "output_type": "stream",
     "text": [
      "15095.254974389141\n"
     ]
    }
   ],
   "source": [
    "pred = lassoreg.predict(X_test)\n",
    "print(np.sqrt(metrics.mean_squared_error(y_test,pred)))"
   ]
  },
  {
   "cell_type": "code",
   "execution_count": 70,
   "metadata": {
    "scrolled": true
   },
   "outputs": [
    {
     "data": {
      "text/plain": [
       "[('IsHoliday', 0.0),\n",
       " ('Size', 0.09310767406205309),\n",
       " ('Temperature', 0.0),\n",
       " ('Fuel_Price', -0.0),\n",
       " ('MarkDown1', 0.0),\n",
       " ('MarkDown2', 0.0),\n",
       " ('MarkDown3', 0.02313319325841576),\n",
       " ('MarkDown4', 0.0),\n",
       " ('MarkDown5', 0.0),\n",
       " ('CPI', -0.0),\n",
       " ('Unemployment', -0.0),\n",
       " ('type_B', -0.0),\n",
       " ('type_C', 0.0),\n",
       " ('Dept_10', 3830.0257438104186),\n",
       " ('Dept_11', 177.3170177182001),\n",
       " ('Dept_12', -1231.9820187608154),\n",
       " ('Dept_13', 16124.14199995537),\n",
       " ('Dept_14', 478.9677847788595),\n",
       " ('Dept_16', 0.0),\n",
       " ('Dept_17', 0.0),\n",
       " ('Dept_18', -0.0),\n",
       " ('Dept_19', -4536.5714072374885),\n",
       " ('Dept_2', 29382.176796679378),\n",
       " ('Dept_20', -297.05003391357474),\n",
       " ('Dept_21', -393.829822643708),\n",
       " ('Dept_22', -0.0),\n",
       " ('Dept_23', 8348.484393513134),\n",
       " ('Dept_24', -163.04999644171252),\n",
       " ('Dept_25', -0.0),\n",
       " ('Dept_26', -0.0),\n",
       " ('Dept_27', -4676.0788012192315),\n",
       " ('Dept_28', -5113.402416810052),\n",
       " ('Dept_29', -1029.139902247613),\n",
       " ('Dept_3', 0.0),\n",
       " ('Dept_30', -2565.2805896288464),\n",
       " ('Dept_31', -3406.7593754363165),\n",
       " ('Dept_32', -0.0),\n",
       " ('Dept_33', -72.74301013374749),\n",
       " ('Dept_34', 0.0),\n",
       " ('Dept_35', -3803.808769750496),\n",
       " ('Dept_36', -4671.852022919003),\n",
       " ('Dept_37', -4773.623539592746),\n",
       " ('Dept_38', 46705.29323776899),\n",
       " ('Dept_39', -0.0),\n",
       " ('Dept_4', 11580.056708891536),\n",
       " ('Dept_40', 30457.24272421437),\n",
       " ('Dept_41', -4602.281645926018),\n",
       " ('Dept_42', -206.46739147430523),\n",
       " ('Dept_43', -0.0),\n",
       " ('Dept_44', -1774.8509618069925),\n",
       " ('Dept_45', -3459.3761232029333),\n",
       " ('Dept_46', 5591.169178844869),\n",
       " ('Dept_47', -0.0),\n",
       " ('Dept_48', -2700.166962512497),\n",
       " ('Dept_49', -0.0),\n",
       " ('Dept_5', 6916.004064983468),\n",
       " ('Dept_50', -1593.3097878810129),\n",
       " ('Dept_51', -1556.5519647155363),\n",
       " ('Dept_52', -3674.515190900947),\n",
       " ('Dept_54', -6602.251473128398),\n",
       " ('Dept_55', -0.0),\n",
       " ('Dept_56', -2116.667754474639),\n",
       " ('Dept_58', -3363.382769461364),\n",
       " ('Dept_59', -5025.4425048498215),\n",
       " ('Dept_6', -1054.1322708616478),\n",
       " ('Dept_60', -4540.052393423274),\n",
       " ('Dept_65', 3066.2381189003345),\n",
       " ('Dept_67', -0.0),\n",
       " ('Dept_7', 9424.591307078113),\n",
       " ('Dept_71', -1055.9679773079768),\n",
       " ('Dept_72', 35311.53578848133),\n",
       " ('Dept_74', 0.0),\n",
       " ('Dept_77', -0.0),\n",
       " ('Dept_78', -0.0),\n",
       " ('Dept_79', 7571.1179242797525),\n",
       " ('Dept_8', 15608.811869363357),\n",
       " ('Dept_80', 0.0),\n",
       " ('Dept_81', 1072.886869642121),\n",
       " ('Dept_82', 1088.3487431993626),\n",
       " ('Dept_83', -2318.5799390538587),\n",
       " ('Dept_85', -3525.734371969076),\n",
       " ('Dept_87', 0.0),\n",
       " ('Dept_9', 5636.373803197449),\n",
       " ('Dept_90', 31010.722856055392),\n",
       " ('Dept_91', 19352.255012866586),\n",
       " ('Dept_92', 60059.57381945093),\n",
       " ('Dept_93', 11705.176464227965),\n",
       " ('Dept_94', 18398.992326039144),\n",
       " ('Dept_95', 55538.00852171371),\n",
       " ('Dept_96', 157.02737035265343),\n",
       " ('Dept_97', 0.0),\n",
       " ('Dept_98', -0.0),\n",
       " ('Dept_99', -2299.3679426469585)]"
      ]
     },
     "execution_count": 70,
     "metadata": {},
     "output_type": "execute_result"
    }
   ],
   "source": [
    "list(zip(X_test.columns,lassoreg.coef_))"
   ]
  },
  {
   "cell_type": "code",
   "execution_count": 71,
   "metadata": {},
   "outputs": [
    {
     "name": "stderr",
     "output_type": "stream",
     "text": [
      "C:\\Users\\Jason\\Anaconda3\\lib\\site-packages\\ipykernel_launcher.py:3: UserWarning: Boolean Series key will be reindexed to match DataFrame index.\n",
      "  This is separate from the ipykernel package so we can avoid doing imports until\n"
     ]
    },
    {
     "data": {
      "text/plain": [
       "Weekly_Sales    1.000000\n",
       "IsHoliday       0.090061\n",
       "Size                 NaN\n",
       "Temperature    -0.473860\n",
       "Fuel_Price     -0.066396\n",
       "MarkDown1      -0.003721\n",
       "MarkDown2       0.044608\n",
       "MarkDown3      -0.010386\n",
       "MarkDown4       0.011756\n",
       "MarkDown5       0.001067\n",
       "CPI            -0.043533\n",
       "Unemployment    0.103399\n",
       "type_B               NaN\n",
       "type_C               NaN\n",
       "Name: Weekly_Sales, dtype: float64"
      ]
     },
     "execution_count": 71,
     "metadata": {},
     "output_type": "execute_result"
    }
   ],
   "source": [
    "#This has even higher correlation than just Dept split, however likely due to low number of row;\n",
    "#Will proceed with fitting model with One hot encoding of both Store and Dept\n",
    "data_store_dept_level = data[data.Store == '1'][data.Dept == '1']\n",
    "data_store_dept_level.corr()[\"Weekly_Sales\"]"
   ]
  },
  {
   "cell_type": "code",
   "execution_count": 72,
   "metadata": {},
   "outputs": [],
   "source": [
    "store_dept_data = pd.get_dummies(dept_data,prefix = 'Store', columns= [\"Store\"],drop_first= True)\n",
    "X = store_dept_data.drop(['Weekly_Sales','Date','Size','type_B','type_C'], axis = 1)\n",
    "y = store_dept_data.Weekly_Sales"
   ]
  },
  {
   "cell_type": "code",
   "execution_count": 73,
   "metadata": {},
   "outputs": [
    {
     "data": {
      "text/plain": [
       "0.6481375633614257"
      ]
     },
     "execution_count": 73,
     "metadata": {},
     "output_type": "execute_result"
    }
   ],
   "source": [
    "X_train, X_test, y_train, y_test = train_test_split(X, y, random_state=123)\n",
    "lr = LinearRegression(normalize=True)\n",
    "lr.fit(X_train,y_train)\n",
    "lr.score(X_test,y_test)"
   ]
  },
  {
   "cell_type": "code",
   "execution_count": 74,
   "metadata": {},
   "outputs": [
    {
     "name": "stdout",
     "output_type": "stream",
     "text": [
      "13629.6963875329\n"
     ]
    }
   ],
   "source": [
    "pred = lr.predict(X_test)\n",
    "print(np.sqrt(metrics.mean_squared_error(y_test,pred)))"
   ]
  },
  {
   "cell_type": "code",
   "execution_count": 75,
   "metadata": {},
   "outputs": [
    {
     "data": {
      "text/plain": [
       "[('IsHoliday', 522.2428830536325),\n",
       " ('Temperature', -10.984160115649598),\n",
       " ('Fuel_Price', -682.1740924031308),\n",
       " ('MarkDown1', 0.004028467862718457),\n",
       " ('MarkDown2', -0.0342510179706075),\n",
       " ('MarkDown3', 0.09484080131829338),\n",
       " ('MarkDown4', -0.025474573716846735),\n",
       " ('MarkDown5', 0.04486354930317735),\n",
       " ('CPI', 13.378953670911844),\n",
       " ('Unemployment', -392.29439940456865),\n",
       " ('Dept_10', -993.6282504480522),\n",
       " ('Dept_11', -4695.219873324882),\n",
       " ('Dept_12', -15114.939307557177),\n",
       " ('Dept_13', 11362.613474160275),\n",
       " ('Dept_14', -4375.212014591474),\n",
       " ('Dept_16', -5018.6516127081795),\n",
       " ('Dept_17', -9106.045946671316),\n",
       " ('Dept_18', -12503.706682694072),\n",
       " ('Dept_19', -20333.48901945609),\n",
       " ('Dept_2', 24550.4564737662),\n",
       " ('Dept_20', -14309.203420415422),\n",
       " ('Dept_21', -14220.603665249915),\n",
       " ('Dept_22', -10128.889981332604),\n",
       " ('Dept_23', 3584.792983779168),\n",
       " ('Dept_24', -14801.399077294052),\n",
       " ('Dept_25', -10368.712721494683),\n",
       " ('Dept_26', -12757.73951915187),\n",
       " ('Dept_27', -19167.0975818966),\n",
       " ('Dept_28', -19262.708958251278),\n",
       " ('Dept_29', -15727.256399334241),\n",
       " ('Dept_3', -7385.015044670531),\n",
       " ('Dept_30', -17340.912552353373),\n",
       " ('Dept_31', -17628.543682824937),\n",
       " ('Dept_32', -13249.533087751215),\n",
       " ('Dept_33', -14788.39695930738),\n",
       " ('Dept_34', -5728.286036444043),\n",
       " ('Dept_35', -18521.078369192863),\n",
       " ('Dept_36', -19485.411540193796),\n",
       " ('Dept_37', -22414.504540440015),\n",
       " ('Dept_38', 41926.79211651803),\n",
       " ('Dept_39', -27117.382400152488),\n",
       " ('Dept_4', 6774.931864267036),\n",
       " ('Dept_40', 25653.981028899845),\n",
       " ('Dept_41', -19188.111771080312),\n",
       " ('Dept_42', -14047.973412590476),\n",
       " ('Dept_43', -15143.870325994576),\n",
       " ('Dept_44', -16381.24577128081),\n",
       " ('Dept_45', -22316.82155302692),\n",
       " ('Dept_46', 752.4643866987631),\n",
       " ('Dept_47', -22665.01055804657),\n",
       " ('Dept_48', -23658.02890589582),\n",
       " ('Dept_49', -14309.382814625458),\n",
       " ('Dept_5', 2114.4275199966683),\n",
       " ('Dept_50', -23427.948527674896),\n",
       " ('Dept_51', -21145.165204346635),\n",
       " ('Dept_52', -17690.21982309286),\n",
       " ('Dept_54', -21881.524078360955),\n",
       " ('Dept_55', -9941.569248928894),\n",
       " ('Dept_56', -16406.064171779784),\n",
       " ('Dept_58', -19147.074534992076),\n",
       " ('Dept_59', -19135.334328558238),\n",
       " ('Dept_6', -15212.318576142607),\n",
       " ('Dept_60', -18706.442735214077),\n",
       " ('Dept_65', 27657.474453615167),\n",
       " ('Dept_67', -11735.791831764769),\n",
       " ('Dept_7', 4643.268020743251),\n",
       " ('Dept_71', -15736.172519498974),\n",
       " ('Dept_72', 30473.554604763543),\n",
       " ('Dept_74', -5455.5694486515295),\n",
       " ('Dept_77', -24146.079309912697),\n",
       " ('Dept_78', -23129.61588524811),\n",
       " ('Dept_79', 2734.7544139796364),\n",
       " ('Dept_8', 10805.760253584396),\n",
       " ('Dept_80', -7660.82273753595),\n",
       " ('Dept_81', -3754.319941351164),\n",
       " ('Dept_82', -3735.503052328857),\n",
       " ('Dept_83', -16545.252760218813),\n",
       " ('Dept_85', -17728.434732206446),\n",
       " ('Dept_87', -5825.815588989797),\n",
       " ('Dept_9', 769.8660269782011),\n",
       " ('Dept_90', 26157.698928262318),\n",
       " ('Dept_91', 14474.07052370546),\n",
       " ('Dept_92', 55271.93599142807),\n",
       " ('Dept_93', 6880.733873462351),\n",
       " ('Dept_94', 13809.395441798615),\n",
       " ('Dept_95', 50720.29047590611),\n",
       " ('Dept_96', -3789.5870035941684),\n",
       " ('Dept_97', -5046.724125851103),\n",
       " ('Dept_98', -12977.299401346396),\n",
       " ('Dept_99', -25034.42150307681),\n",
       " ('Store_10', 6441.349393198309),\n",
       " ('Store_11', -3004.4769527674725),\n",
       " ('Store_12', -3722.8659035638657),\n",
       " ('Store_13', 6913.4828955928115),\n",
       " ('Store_14', 7595.060867318353),\n",
       " ('Store_15', -11795.024605504477),\n",
       " ('Store_16', -14981.170607978804),\n",
       " ('Store_17', -8438.629736977704),\n",
       " ('Store_18', -4787.474201454477),\n",
       " ('Store_19', -186.90297627026635),\n",
       " ('Store_2', 5160.698467623321),\n",
       " ('Store_20', 8047.3824617527325),\n",
       " ('Store_21', -11111.27838766812),\n",
       " ('Store_22', -5941.666893912802),\n",
       " ('Store_23', -2309.818152805524),\n",
       " ('Store_24', -1335.0278381444105),\n",
       " ('Store_25', -11737.326472510116),\n",
       " ('Store_26', -6722.56126896298),\n",
       " ('Store_27', 4395.282761497719),\n",
       " ('Store_28', 302.91367119506583),\n",
       " ('Store_29', -12320.368190155163),\n",
       " ('Store_3', -16359.875150855112),\n",
       " ('Store_30', -17651.787134371232),\n",
       " ('Store_31', -2410.311972261239),\n",
       " ('Store_32', -4926.571498737545),\n",
       " ('Store_33', -19752.698961041973),\n",
       " ('Store_34', -7012.669686805137),\n",
       " ('Store_35', -7371.351823353404),\n",
       " ('Store_36', -19157.013378503765),\n",
       " ('Store_37', -16033.360639806417),\n",
       " ('Store_38', -15132.710882878438),\n",
       " ('Store_39', -1360.1684306563548),\n",
       " ('Store_4', 8081.756911197915),\n",
       " ('Store_40', -8419.911405168068),\n",
       " ('Store_41', -4321.780371166455),\n",
       " ('Store_42', -13122.8238398398),\n",
       " ('Store_43', -12860.0516599388),\n",
       " ('Store_44', -19974.99549721259),\n",
       " ('Store_45', -10006.508960469895),\n",
       " ('Store_5', -18370.192352314407),\n",
       " ('Store_6', -352.6779482019187),\n",
       " ('Store_7', -13621.992248626948),\n",
       " ('Store_8', -9740.282581445621),\n",
       " ('Store_9', -14770.767645180918)]"
      ]
     },
     "execution_count": 75,
     "metadata": {},
     "output_type": "execute_result"
    }
   ],
   "source": [
    "list(zip(X_test.columns,lr.coef_))"
   ]
  },
  {
   "cell_type": "code",
   "execution_count": 76,
   "metadata": {},
   "outputs": [],
   "source": [
    "ridgereg = Ridge(normalize= True)\n",
    "lassoreg = Lasso(normalize = True)"
   ]
  },
  {
   "cell_type": "code",
   "execution_count": 77,
   "metadata": {},
   "outputs": [
    {
     "data": {
      "text/plain": [
       "0.4777918958264299"
      ]
     },
     "execution_count": 77,
     "metadata": {},
     "output_type": "execute_result"
    }
   ],
   "source": [
    "ridgereg.fit(X_train,y_train)\n",
    "ridgereg.score(X_test,y_test)"
   ]
  },
  {
   "cell_type": "code",
   "execution_count": 78,
   "metadata": {},
   "outputs": [
    {
     "name": "stdout",
     "output_type": "stream",
     "text": [
      "16604.336742046056\n"
     ]
    }
   ],
   "source": [
    "pred = ridgereg.predict(X_test)\n",
    "print(np.sqrt(metrics.mean_squared_error(y_test,pred)))"
   ]
  },
  {
   "cell_type": "code",
   "execution_count": 79,
   "metadata": {},
   "outputs": [
    {
     "data": {
      "text/plain": [
       "[('IsHoliday', 299.36806803661824),\n",
       " ('Temperature', -1.3659312651443871),\n",
       " ('Fuel_Price', -293.9568157988261),\n",
       " ('MarkDown1', 0.03412747164774423),\n",
       " ('MarkDown2', 0.013317714602707696),\n",
       " ('MarkDown3', 0.06234673064666811),\n",
       " ('MarkDown4', 0.026749891987840287),\n",
       " ('MarkDown5', 0.07146951647358098),\n",
       " ('CPI', -3.9026131084459483),\n",
       " ('Unemployment', -123.24998839668517),\n",
       " ('Dept_10', 1291.222849562324),\n",
       " ('Dept_11', -551.5064737913818),\n",
       " ('Dept_12', -5800.563413092238),\n",
       " ('Dept_13', 7481.955169677305),\n",
       " ('Dept_14', -421.8460700757035),\n",
       " ('Dept_16', -752.7445621232863),\n",
       " ('Dept_17', -2808.5637795478647),\n",
       " ('Dept_18', -4311.484595038353),\n",
       " ('Dept_19', -7630.573718439694),\n",
       " ('Dept_2', 14168.113205451142),\n",
       " ('Dept_20', -5251.736612729542),\n",
       " ('Dept_21', -5388.273221681987),\n",
       " ('Dept_22', -2821.187966304455),\n",
       " ('Dept_23', 3925.9428983382186),\n",
       " ('Dept_24', -5087.369982005469),\n",
       " ('Dept_25', -3410.560468467664),\n",
       " ('Dept_26', -4276.471991947802),\n",
       " ('Dept_27', -7408.956920412288),\n",
       " ('Dept_28', -7719.177056212751),\n",
       " ('Dept_29', -5489.223953319069),\n",
       " ('Dept_3', -1949.8333271917859),\n",
       " ('Dept_30', -6273.339793908559),\n",
       " ('Dept_31', -6868.396057547522),\n",
       " ('Dept_32', -4635.749434146958),\n",
       " ('Dept_33', -5056.361202683323),\n",
       " ('Dept_34', -467.674355233096),\n",
       " ('Dept_35', -6876.634395729515),\n",
       " ('Dept_36', -7342.748052313954),\n",
       " ('Dept_37', -7733.775127752668),\n",
       " ('Dept_38', 22892.53463411951),\n",
       " ('Dept_39', -9778.788035026562),\n",
       " ('Dept_4', 5205.939306771923),\n",
       " ('Dept_40', 14723.621161885432),\n",
       " ('Dept_41', -7299.348576899553),\n",
       " ('Dept_42', -5283.547735723222),\n",
       " ('Dept_43', -6745.772514295563),\n",
       " ('Dept_44', -5921.4159899701335),\n",
       " ('Dept_45', -8483.528826106132),\n",
       " ('Dept_46', 2156.416889623908),\n",
       " ('Dept_47', -8584.854303457363),\n",
       " ('Dept_48', -8474.105251392955),\n",
       " ('Dept_49', -4552.044879185673),\n",
       " ('Dept_5', 2886.6745598087937),\n",
       " ('Dept_50', -8181.508306510218),\n",
       " ('Dept_51', -8147.465152461145),\n",
       " ('Dept_52', -7010.599803470166),\n",
       " ('Dept_54', -8414.551998649233),\n",
       " ('Dept_55', -2775.41681706638),\n",
       " ('Dept_56', -6160.0798767246215),\n",
       " ('Dept_58', -6803.219037123418),\n",
       " ('Dept_59', -7683.923918757516),\n",
       " ('Dept_6', -5639.121415311426),\n",
       " ('Dept_60', -7687.303576359792),\n",
       " ('Dept_65', 15297.861237916519),\n",
       " ('Dept_67', -4138.669068847069),\n",
       " ('Dept_7', 4135.225046160988),\n",
       " ('Dept_71', -5478.89876530122),\n",
       " ('Dept_72', 17363.098210965254),\n",
       " ('Dept_74', -971.9256860406183),\n",
       " ('Dept_77', -9195.227990003525),\n",
       " ('Dept_78', -8725.14785429261),\n",
       " ('Dept_79', 3161.6414878317473),\n",
       " ('Dept_8', 7216.916050832398),\n",
       " ('Dept_80', -1907.418324200636),\n",
       " ('Dept_81', -95.51773646945041),\n",
       " ('Dept_82', -72.0135209182207),\n",
       " ('Dept_83', -6378.620176089252),\n",
       " ('Dept_85', -6917.016235003319),\n",
       " ('Dept_87', -1132.3312210835882),\n",
       " ('Dept_9', 2239.206542817395),\n",
       " ('Dept_90', 14985.947518965171),\n",
       " ('Dept_91', 9089.754974260904),\n",
       " ('Dept_92', 29622.451289993307),\n",
       " ('Dept_93', 5424.970179077461),\n",
       " ('Dept_94', 8867.137938693617),\n",
       " ('Dept_95', 27356.179423862923),\n",
       " ('Dept_96', -194.79590136911597),\n",
       " ('Dept_97', -704.2067586294252),\n",
       " ('Dept_98', -4593.083188792719),\n",
       " ('Dept_99', -9279.906978817366),\n",
       " ('Store_10', 5303.241350933872),\n",
       " ('Store_11', 1737.7206217779587),\n",
       " ('Store_12', -257.369832275366),\n",
       " ('Store_13', 5827.577043188192),\n",
       " ('Store_14', 6544.680251045956),\n",
       " ('Store_15', -3462.681290756192),\n",
       " ('Store_16', -4136.477343313517),\n",
       " ('Store_17', -1572.2245094159666),\n",
       " ('Store_18', -45.55471878839784),\n",
       " ('Store_19', 2262.767185471403),\n",
       " ('Store_2', 5678.122979959298),\n",
       " ('Store_20', 7090.930650742502),\n",
       " ('Store_21', -2316.4185177528893),\n",
       " ('Store_22', -488.0605348744009),\n",
       " ('Store_23', 1719.4007741229007),\n",
       " ('Store_24', 1614.139662874423),\n",
       " ('Store_25', -2752.3480255753093),\n",
       " ('Store_26', -734.0782778596048),\n",
       " ('Store_27', 4549.77269189364),\n",
       " ('Store_28', 1665.7289229644527),\n",
       " ('Store_29', -3829.3076951859043),\n",
       " ('Store_3', -4748.0240610967085),\n",
       " ('Store_30', -4452.345333710119),\n",
       " ('Store_31', 1883.118463735276),\n",
       " ('Store_32', 402.8315285072872),\n",
       " ('Store_33', -6229.684919127759),\n",
       " ('Store_34', -1246.0751873508098),\n",
       " ('Store_35', -1248.5799832191715),\n",
       " ('Store_36', -4836.197436046604),\n",
       " ('Store_37', -3629.5642046955018),\n",
       " ('Store_38', -4763.045686540712),\n",
       " ('Store_39', 2513.3068957753794),\n",
       " ('Store_4', 6655.638917495603),\n",
       " ('Store_40', -1310.0446075828913),\n",
       " ('Store_41', 939.8642971579453),\n",
       " ('Store_42', -3162.548850898729),\n",
       " ('Store_43', -2247.604250579582),\n",
       " ('Store_44', -6040.934586560948),\n",
       " ('Store_45', -2128.489454671173),\n",
       " ('Store_5', -5613.6828127641165),\n",
       " ('Store_6', 3078.2471402339625),\n",
       " ('Store_7', -3744.3965263308883),\n",
       " ('Store_8', -1413.5413161660726),\n",
       " ('Store_9', -3736.8942637975697)]"
      ]
     },
     "execution_count": 79,
     "metadata": {},
     "output_type": "execute_result"
    }
   ],
   "source": [
    "list(zip(X_test.columns,ridgereg.coef_))"
   ]
  },
  {
   "cell_type": "code",
   "execution_count": 80,
   "metadata": {},
   "outputs": [
    {
     "data": {
      "text/plain": [
       "0.5760250631089952"
      ]
     },
     "execution_count": 80,
     "metadata": {},
     "output_type": "execute_result"
    }
   ],
   "source": [
    "lassoreg.fit(X_train,y_train)\n",
    "lassoreg.score(X_test,y_test)"
   ]
  },
  {
   "cell_type": "code",
   "execution_count": 81,
   "metadata": {},
   "outputs": [
    {
     "name": "stdout",
     "output_type": "stream",
     "text": [
      "14961.316862423295\n"
     ]
    }
   ],
   "source": [
    "pred = lassoreg.predict(X_test)\n",
    "print(np.sqrt(metrics.mean_squared_error(y_test,pred)))"
   ]
  },
  {
   "cell_type": "code",
   "execution_count": 82,
   "metadata": {},
   "outputs": [
    {
     "data": {
      "text/plain": [
       "[('IsHoliday', 0.0),\n",
       " ('Temperature', -0.0),\n",
       " ('Fuel_Price', -0.0),\n",
       " ('MarkDown1', 0.0),\n",
       " ('MarkDown2', 0.0),\n",
       " ('MarkDown3', 0.023460423670532672),\n",
       " ('MarkDown4', 0.0),\n",
       " ('MarkDown5', 0.03582628534900689),\n",
       " ('CPI', -0.0),\n",
       " ('Unemployment', -0.0),\n",
       " ('Dept_10', 3579.5101894647337),\n",
       " ('Dept_11', 0.0),\n",
       " ('Dept_12', -1499.8003684280254),\n",
       " ('Dept_13', 15870.376349020144),\n",
       " ('Dept_14', 191.71742091327897),\n",
       " ('Dept_16', 0.0),\n",
       " ('Dept_17', -0.0),\n",
       " ('Dept_18', -0.0),\n",
       " ('Dept_19', -4193.582103049545),\n",
       " ('Dept_2', 29125.243657407143),\n",
       " ('Dept_20', -270.2488069475309),\n",
       " ('Dept_21', -631.4396814870867),\n",
       " ('Dept_22', -0.0),\n",
       " ('Dept_23', 8530.26841036988),\n",
       " ('Dept_24', -0.0),\n",
       " ('Dept_25', -0.0),\n",
       " ('Dept_26', -0.0),\n",
       " ('Dept_27', -4413.0548142321495),\n",
       " ('Dept_28', -5186.850113595665),\n",
       " ('Dept_29', -465.6700476725326),\n",
       " ('Dept_3', 0.0),\n",
       " ('Dept_30', -2008.8611703110546),\n",
       " ('Dept_31', -3522.029133937011),\n",
       " ('Dept_32', -0.0),\n",
       " ('Dept_33', -0.0),\n",
       " ('Dept_34', 0.0),\n",
       " ('Dept_35', -3237.6048839518817),\n",
       " ('Dept_36', -4145.073754195079),\n",
       " ('Dept_37', -3023.7454955218277),\n",
       " ('Dept_38', 46478.554335108005),\n",
       " ('Dept_39', -0.0),\n",
       " ('Dept_4', 11349.242382811683),\n",
       " ('Dept_40', 30208.751756370217),\n",
       " ('Dept_41', -4083.089473884498),\n",
       " ('Dept_42', -404.8069451582747),\n",
       " ('Dept_43', -0.0),\n",
       " ('Dept_44', -1379.0133918107076),\n",
       " ('Dept_45', -3012.7239032515554),\n",
       " ('Dept_46', 5317.073302252986),\n",
       " ('Dept_47', -0.0),\n",
       " ('Dept_48', -3356.870938151292),\n",
       " ('Dept_49', -0.0),\n",
       " ('Dept_5', 6759.030304440412),\n",
       " ('Dept_50', -2169.341448241764),\n",
       " ('Dept_51', -961.0369477141198),\n",
       " ('Dept_52', -3836.131157365139),\n",
       " ('Dept_54', -6062.779854174759),\n",
       " ('Dept_55', 0.0),\n",
       " ('Dept_56', -2031.3838634093604),\n",
       " ('Dept_58', -2631.194804585048),\n",
       " ('Dept_59', -5119.218655625876),\n",
       " ('Dept_6', -992.6970945680823),\n",
       " ('Dept_60', -4978.8976497199865),\n",
       " ('Dept_65', 5746.3428804165205),\n",
       " ('Dept_67', -0.0),\n",
       " ('Dept_7', 9197.099201577383),\n",
       " ('Dept_71', -460.76317206351035),\n",
       " ('Dept_72', 35312.541079119925),\n",
       " ('Dept_74', 0.0),\n",
       " ('Dept_77', -0.0),\n",
       " ('Dept_78', -0.0),\n",
       " ('Dept_79', 7336.391638286638),\n",
       " ('Dept_8', 15396.96430966635),\n",
       " ('Dept_80', 0.0),\n",
       " ('Dept_81', 800.4350388055319),\n",
       " ('Dept_82', 866.9516889148019),\n",
       " ('Dept_83', -2452.0084485554703),\n",
       " ('Dept_85', -3577.4790338039415),\n",
       " ('Dept_87', 0.0),\n",
       " ('Dept_9', 5399.3803629627955),\n",
       " ('Dept_90', 30760.796420589526),\n",
       " ('Dept_91', 19065.016374971736),\n",
       " ('Dept_92', 59845.82073629822),\n",
       " ('Dept_93', 11517.00180799832),\n",
       " ('Dept_94', 18318.06966868988),\n",
       " ('Dept_95', 55322.89427562627),\n",
       " ('Dept_96', 179.66454526217402),\n",
       " ('Dept_97', 0.0),\n",
       " ('Dept_98', -0.0),\n",
       " ('Dept_99', -139.47416080401675),\n",
       " ('Store_10', 8045.049672813588),\n",
       " ('Store_11', 740.2235710298722),\n",
       " ('Store_12', -0.0),\n",
       " ('Store_13', 9373.079013913673),\n",
       " ('Store_14', 10160.245862646823),\n",
       " ('Store_15', -2237.3400559398137),\n",
       " ('Store_16', -3475.0284550260044),\n",
       " ('Store_17', -0.0),\n",
       " ('Store_18', 0.0),\n",
       " ('Store_19', 1984.1597216890375),\n",
       " ('Store_2', 8575.014432534623),\n",
       " ('Store_20', 11318.745342609218),\n",
       " ('Store_21', -182.97298475631288),\n",
       " ('Store_22', 0.0),\n",
       " ('Store_23', 1253.4944749939743),\n",
       " ('Store_24', 616.5979671080555),\n",
       " ('Store_25', -1001.1994035385883),\n",
       " ('Store_26', -0.0),\n",
       " ('Store_27', 6520.563471521385),\n",
       " ('Store_28', 178.46254759511172),\n",
       " ('Store_29', -3196.423142869846),\n",
       " ('Store_3', -4916.132676672209),\n",
       " ('Store_30', -4378.071510674125),\n",
       " ('Store_31', 1063.2389283041332),\n",
       " ('Store_32', 0.0),\n",
       " ('Store_33', -7598.655191887081),\n",
       " ('Store_34', -0.0),\n",
       " ('Store_35', -0.0),\n",
       " ('Store_36', -5009.105300199773),\n",
       " ('Store_37', -2828.582198629861),\n",
       " ('Store_38', -5573.553742514053),\n",
       " ('Store_39', 2303.9652697642127),\n",
       " ('Store_4', 11079.455377420225),\n",
       " ('Store_40', -0.0),\n",
       " ('Store_41', 0.0),\n",
       " ('Store_42', -1455.8018185041087),\n",
       " ('Store_43', -202.65205616370497),\n",
       " ('Store_44', -7306.477387999585),\n",
       " ('Store_45', -0.0),\n",
       " ('Store_5', -6541.430356703776),\n",
       " ('Store_6', 3514.5265897083705),\n",
       " ('Store_7', -3033.2572278150637),\n",
       " ('Store_8', -0.0),\n",
       " ('Store_9', -2822.5073113423264)]"
      ]
     },
     "execution_count": 82,
     "metadata": {},
     "output_type": "execute_result"
    }
   ],
   "source": [
    "list(zip(X_test.columns,lassoreg.coef_))"
   ]
  },
  {
   "cell_type": "markdown",
   "metadata": {},
   "source": [
    "# Conclusion"
   ]
  },
  {
   "cell_type": "markdown",
   "metadata": {},
   "source": [
    "Base on the regularlized model, the Weekly_Sales is more dependent on the Store and Department rather than any of the other external features.\n",
    "\n",
    "An alternative for modeling and forecasting would be then to split the dataset based on Store and Department and run each model with the external feature. However, the observation based on that data split would then be too small (~100-200) for model fitting. We could also use time series modeling following the split"
   ]
  },
  {
   "cell_type": "code",
   "execution_count": null,
   "metadata": {},
   "outputs": [],
   "source": []
  }
 ],
 "metadata": {
  "kernelspec": {
   "display_name": "Python 3",
   "language": "python",
   "name": "python3"
  },
  "language_info": {
   "codemirror_mode": {
    "name": "ipython",
    "version": 3
   },
   "file_extension": ".py",
   "mimetype": "text/x-python",
   "name": "python",
   "nbconvert_exporter": "python",
   "pygments_lexer": "ipython3",
   "version": "3.6.4"
  }
 },
 "nbformat": 4,
 "nbformat_minor": 2
}
