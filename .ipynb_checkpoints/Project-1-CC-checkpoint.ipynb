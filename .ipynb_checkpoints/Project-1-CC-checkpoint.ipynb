{
 "cells": [
  {
   "cell_type": "markdown",
   "metadata": {},
   "source": [
    "<img src=\"http://imgur.com/1ZcRyrc.png\" style=\"float: left; margin: 20px; height: 55px\">\n",
    "\n",
    "# Project 1: Python Coding Exercises\n",
    "\n",
    "_Authors: Joseph Nelson (DC) _\n",
    "\n",
    "---"
   ]
  },
  {
   "cell_type": "markdown",
   "metadata": {},
   "source": [
    "The following code challenges are drawn from common exercises used in technical interviews.\n",
    "\n",
    "Please note that there may be several ways to approach each challenge. If you get stuck, try mapping out your approach in pseudocode first. Finally, while solutions to problems like these may be found online, remember that if you copy/paste code that you can't explain, you'll be missing out on the point of the project. The only way to truly learn a new skill is through practice, trial, and error - we can only help you improve by understanding where you are having trouble."
   ]
  },
  {
   "cell_type": "markdown",
   "metadata": {},
   "source": [
    "### Challenge 1: Largest Palindrome\n",
    "A palindromic number reads the same both ways. For example, 1234321 is a palindrome. The largest palindrome made from the product of two two-digit numbers is 9009 = 91 × 99. Find the largest palindrome made from the product of two three-digit numbers. Afterward, write a brief explanation walking through your code's logic in markdown."
   ]
  },
  {
   "cell_type": "code",
   "execution_count": 3,
   "metadata": {},
   "outputs": [
    {
     "name": "stdout",
     "output_type": "stream",
     "text": [
      "906609\n"
     ]
    }
   ],
   "source": [
    "def is_palindrome(n):\n",
    "    n_string = str(n)\n",
    "    if len(n_string) <2 :\n",
    "        return False\n",
    "    elif len(n_string)%2 == 0:\n",
    "        front = n_string[0:len(n_string)//2]\n",
    "        back_reversed = n_string[:len(n_string)//2-1:-1]\n",
    "        return front == back_reversed\n",
    "    else :\n",
    "        front = n_string[0:len(n_string)//2]\n",
    "        back_reversed = n_string[:len(n_string)//2:-1]\n",
    "        return front == back_reversed\n",
    "    \n",
    "def is_palindrome_2(n):\n",
    "    num_str = str(n)\n",
    "    if len(num_str)<2 :\n",
    "        return False\n",
    "    else :\n",
    "        return num_str == num_str[::-1]\n",
    "\n",
    "def max_palindrome(number_of_digit):\n",
    "    max_palindrome = 0\n",
    "    for i in range(10**(number_of_digit-1),10**number_of_digit):\n",
    "        for j in range (10**(number_of_digit-1),10**number_of_digit):\n",
    "            if is_palindrome_2(i*j) and i*j > max_palindrome :\n",
    "                max_palindrome = i*j\n",
    "    return max_palindrome\n",
    "\n",
    "print(max_palindrome(3))"
   ]
  },
  {
   "cell_type": "markdown",
   "metadata": {},
   "source": [
    "function is_palindrome return True if n is a palindrome False otherwise. This is checked using by converting the inpu into a string and dividing it into 2 equal part omitting the middle positioned character/number if the integer is odd. Then checking if the reverse of one of the part is equal to the other part.\n",
    "\n",
    "Maximum palindrome for 3 digit number is found by iterating for i*j  where i,j = (0,1,2,3...999) and returning the largest palindrome found in the loop by passing through each product of each iteration to the is_palindrom function. In general, the maximum palindrome for multiple of number of digit can be found by iterating i*j where i,j is in range (0,10**n) where n is the number of digit.\n",
    "\n"
   ]
  },
  {
   "cell_type": "markdown",
   "metadata": {},
   "source": [
    "\n",
    "### Challenge 2: Summation of Primes\n",
    "The sum of the primes below 10 is 2 + 3 + 5 + 7 = 17. Find the sum of all the primes below 2,000. Afterward, write a brief explanation walking through your code's logic in markdown."
   ]
  },
  {
   "cell_type": "code",
   "execution_count": 2,
   "metadata": {},
   "outputs": [
    {
     "name": "stdout",
     "output_type": "stream",
     "text": [
      "277050\n"
     ]
    }
   ],
   "source": [
    "def is_prime(n):\n",
    "    if n <=1 :\n",
    "        return False\n",
    "    elif n == 2:\n",
    "        return True\n",
    "    else:\n",
    "        for i in range (2,n): #USE LIST OF PRIME INSTEAD OF ITERATING ALL NUMBER\n",
    "            if n%i == 0:\n",
    "                return False\n",
    "        return True\n",
    "    \n",
    "def sum_of_prime(n):\n",
    "    result = 0    \n",
    "    for i in range(0,n) :\n",
    "        if is_prime(i):\n",
    "            result += i\n",
    "    return result\n",
    "\n",
    "print(sum_of_prime(2000))"
   ]
  },
  {
   "cell_type": "markdown",
   "metadata": {},
   "source": [
    "is_prime returns True if number is a prime and False otherwise. For cases n = 0,1,2 is hard coded into the function and for n>2, iteration is used to check if n is an multiple for any number before it other than 1 \n",
    "\n",
    "sum_of_prime returns the sum of prime number from 0 to n not inclusive of n . ny passing  through each element to the is_prime function"
   ]
  },
  {
   "cell_type": "markdown",
   "metadata": {},
   "source": [
    "### Challenge 3: Multiples of 3 and 5\n",
    "If we list all of the natural numbers below 10 that are multiples of 3 or 5, we get 3, 5, 6, and 9. The sum of these multiples is 23. Find the sum of all the multiples of 3 and 5 below 1,000. Afterward, write a brief explanation walking through your code's logic in markdown."
   ]
  },
  {
   "cell_type": "code",
   "execution_count": 3,
   "metadata": {},
   "outputs": [
    {
     "name": "stdout",
     "output_type": "stream",
     "text": [
      "233168\n"
     ]
    }
   ],
   "source": [
    "def sum_mul_3_and_5 (n):\n",
    "    result = 0\n",
    "    for i in range(n):\n",
    "        if i%3 ==0 or i%5 ==0 :\n",
    "            result += i\n",
    "    return result\n",
    "\n",
    "print (sum_mul_3_and_5(1000))"
   ]
  },
  {
   "cell_type": "markdown",
   "metadata": {},
   "source": [
    "the function returns the sum of all multiple of 3 and 5 by iteratively looking for multiples of 3 or 5 and adding them to a result that is returned adter the end of loop\n",
    "\n",
    "function can be further generalise adding to more parameters allowing selection of divisor i.e sum_mul(n,divisor_1,divisor_2) by replacing 3 and 5 in the function with divisor_1 and divisor_2 respectively"
   ]
  },
  {
   "cell_type": "markdown",
   "metadata": {},
   "source": [
    "### Challenge 4: String Compressor\n",
    "Implement a method to perform basic string compression using the counts of repeated characters. (This is called run-length encoding.) For example, the string \"aabcccccaaa\" would become a2b1c5a3. If the “compressed” string would not become smaller than the original string, your method should return the original string. You can assume the string has only uppercase and lowercase letters (a–z). Specify whether your solution is case sensitive or case insensitive and what you would need to change to make it the other. Afterward, write a brief explanation walking through your code's logic in markdown."
   ]
  },
  {
   "cell_type": "code",
   "execution_count": 4,
   "metadata": {},
   "outputs": [
    {
     "name": "stdout",
     "output_type": "stream",
     "text": [
      "a2b1c5a3\n"
     ]
    }
   ],
   "source": [
    "def string_compress(string):\n",
    "    temp = string[0]\n",
    "    result =''\n",
    "    counter = 1\n",
    "    for i in range(1,len(string)):\n",
    "        if string[i] == temp:\n",
    "            counter = counter+1\n",
    "        else :\n",
    "            result = result + temp + str(counter) \n",
    "            temp = string[i]\n",
    "            counter =1\n",
    "    result = result + temp + str(counter)\n",
    "    if len(result) >= len (string):\n",
    "        return string\n",
    "    else :\n",
    "        return result\n",
    "\n",
    "print(string_compress('aabcccccaaa'))"
   ]
  },
  {
   "cell_type": "markdown",
   "metadata": {},
   "source": [
    "The function is case sensitive. For non-case sensitive function, we will need to add an string = string.lower() before the first line (ie. temp = string[0]) . \n",
    "\n",
    "The function work by comparing the nth element of the string to the (n-1) elementh of the string iteratively starting from the 2nd element.\n",
    "\n",
    "The counter is initialize as 1 to accont for the 1st element\n",
    "\n",
    "If the 2 elements are simillar we increase the counter by 1 and move on to the next element\n",
    "\n",
    "If the 2 elements are not simillar we add the reference (i.e the n-1th element) to as well as the counter in string to a result string. We then append a the counter to a list and reinitialize the loop using the nth element as the reference and counter back to 1\n",
    "\n",
    "This process is iterated until the last element, afterwhich the reference and counter is added to the string and counter is also appended to the list.\n",
    "\n",
    "We then check for the length of the original string and the run-length encoded string and return whichever has shorter length. In case where they are equal, original string is returned\n",
    "\n",
    "\n"
   ]
  },
  {
   "cell_type": "markdown",
   "metadata": {},
   "source": [
    "### *BONUS* Challenge: FizzBuzz\n",
    "Write a program that prints all of the numbers from 1 to 100. For multiples of 3, instead of the number, print \"Fizz;\" for multiples of 5, print \"Buzz.\" For numbers that are multiples of both 3 and 5, print \"FizzBuzz.\" Afterward, write a brief explanation walking through your code's logic in markdown."
   ]
  },
  {
   "cell_type": "code",
   "execution_count": 1,
   "metadata": {},
   "outputs": [
    {
     "name": "stdout",
     "output_type": "stream",
     "text": [
      "1\n",
      "2\n",
      "Fizz\n",
      "4\n",
      "Buzz\n",
      "Fizz\n",
      "7\n",
      "8\n",
      "Fizz\n",
      "Buzz\n",
      "11\n",
      "Fizz\n",
      "13\n",
      "14\n",
      "FizzBuzz\n",
      "16\n",
      "17\n",
      "Fizz\n",
      "19\n",
      "Buzz\n",
      "Fizz\n",
      "22\n",
      "23\n",
      "Fizz\n",
      "Buzz\n",
      "26\n",
      "Fizz\n",
      "28\n",
      "29\n",
      "FizzBuzz\n",
      "31\n",
      "32\n",
      "Fizz\n",
      "34\n",
      "Buzz\n",
      "Fizz\n",
      "37\n",
      "38\n",
      "Fizz\n",
      "Buzz\n",
      "41\n",
      "Fizz\n",
      "43\n",
      "44\n",
      "FizzBuzz\n",
      "46\n",
      "47\n",
      "Fizz\n",
      "49\n",
      "Buzz\n",
      "Fizz\n",
      "52\n",
      "53\n",
      "Fizz\n",
      "Buzz\n",
      "56\n",
      "Fizz\n",
      "58\n",
      "59\n",
      "FizzBuzz\n",
      "61\n",
      "62\n",
      "Fizz\n",
      "64\n",
      "Buzz\n",
      "Fizz\n",
      "67\n",
      "68\n",
      "Fizz\n",
      "Buzz\n",
      "71\n",
      "Fizz\n",
      "73\n",
      "74\n",
      "FizzBuzz\n",
      "76\n",
      "77\n",
      "Fizz\n",
      "79\n",
      "Buzz\n",
      "Fizz\n",
      "82\n",
      "83\n",
      "Fizz\n",
      "Buzz\n",
      "86\n",
      "Fizz\n",
      "88\n",
      "89\n",
      "FizzBuzz\n",
      "91\n",
      "92\n",
      "Fizz\n",
      "94\n",
      "Buzz\n",
      "Fizz\n",
      "97\n",
      "98\n",
      "Fizz\n",
      "Buzz\n"
     ]
    }
   ],
   "source": [
    "def fizzbuzz(n):\n",
    "    for i in range (1,n+1):\n",
    "        if i%3 == 0 and i%5 == 0:\n",
    "            print(\"FizzBuzz\")\n",
    "        elif i%3 ==0 :\n",
    "            print (\"Fizz\")\n",
    "        elif i%5 ==0 :\n",
    "            print (\"Buzz\")\n",
    "        else :\n",
    "            print (i)\n",
    "\n",
    "def fizzbuzz_2(n):\n",
    "    for i in range (1,n+1):\n",
    "        print ('Fizz'*(i%3==0)+'Buzz'*(i%5 ==0) or str(i))\n",
    "fizzbuzz(100)"
   ]
  },
  {
   "cell_type": "markdown",
   "metadata": {},
   "source": [
    "the code run iteratively checking integers between 1 and n in the following order :\n",
    "1. multiple of 15 - > print 'fizzbuzz' and move on to the next integer\n",
    "2. multiple of 3 -> print'fizz' and move on to the next integer\n",
    "3. multiple of 5 -> print'buzz' and move on to the next integer\n",
    "4. otherwise -> print integer and move on to the next integer\n",
    "\n",
    "step 1 and 4 are fixed where as step 2 and 3 can be swtiched around "
   ]
  },
  {
   "cell_type": "code",
   "execution_count": null,
   "metadata": {},
   "outputs": [],
   "source": []
  }
 ],
 "metadata": {
  "anaconda-cloud": {},
  "kernelspec": {
   "display_name": "Python 3",
   "language": "python",
   "name": "python3"
  },
  "language_info": {
   "codemirror_mode": {
    "name": "ipython",
    "version": 3
   },
   "file_extension": ".py",
   "mimetype": "text/x-python",
   "name": "python",
   "nbconvert_exporter": "python",
   "pygments_lexer": "ipython3",
   "version": "3.6.4"
  }
 },
 "nbformat": 4,
 "nbformat_minor": 2
}
